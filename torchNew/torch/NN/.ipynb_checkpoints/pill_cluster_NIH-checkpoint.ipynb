{
 "cells": [
  {
   "cell_type": "code",
   "execution_count": 1,
   "metadata": {},
   "outputs": [],
   "source": [
    "import torch\n",
    "import torch.nn as nn\n",
    "import torch.nn.functional as F\n",
    "from torchvision import datasets, transforms\n",
    "\n",
    "import matplotlib.pyplot as plt\n",
    "import matplotlib.colors as mcolors\n",
    "\n",
    "import numpy as np\n",
    "import pandas as pd\n",
    "\n",
    "import sys\n",
    "import os\n",
    "\n",
    "from sklearn.cluster import KMeans\n",
    "from sklearn.manifold import TSNE"
   ]
  },
  {
   "cell_type": "code",
   "execution_count": 2,
   "metadata": {},
   "outputs": [],
   "source": [
    "BATCH_SIZE = 1\n",
    "\n",
    "# setting the correct device to train on\n",
    "device = torch.device('cuda' if torch.cuda.is_available() else 'cpu')\n",
    "torch.set_default_device(device)\n",
    "\n",
    "MAIN_PATH = '/home/u6/njcrutchfield/torch/NN/pill_data/pillQC-main/images' # images are 225 x 225 x 3\n",
    "\n",
    "tensor_transform = transforms.ToTensor()\n",
    "horizontal_flip = transforms.RandomHorizontalFlip(p=1)\n",
    "\n",
    "# Dataset of both normal and horizontal flipped images\n",
    "dataset = datasets.ImageFolder(MAIN_PATH, transform = tensor_transform) + datasets.ImageFolder(MAIN_PATH, transform=transforms.Compose([\n",
    "                                                                                                                     tensor_transform,\n",
    "                                                                                                                     horizontal_flip\n",
    "                                                                                                                   ]))\n"
   ]
  },
  {
   "cell_type": "code",
   "execution_count": 3,
   "metadata": {},
   "outputs": [],
   "source": [
    "SPLIT = [528, 66, 66]\n",
    "train_set, _, _ = torch.utils.data.random_split(dataset,\n",
    "                                                SPLIT,# 80%, 10%, 10%\n",
    "                                                generator=torch.Generator(device=device))\n",
    "\n",
    "train_loader = torch.utils.data.DataLoader(dataset = train_set,\n",
    "                                            batch_size = BATCH_SIZE,\n",
    "                                            shuffle = True,\n",
    "                                            generator=torch.Generator(device=device))"
   ]
  },
  {
   "cell_type": "code",
   "execution_count": 4,
   "metadata": {},
   "outputs": [],
   "source": [
    "class Encoder(nn.Module):\n",
    "    def __init__(self, in_channel=3, out_channel=3500, activation=nn.GELU()):\n",
    "        super().__init__()\n",
    "        # The input size is 3*225*225\n",
    "        self.in_channel = in_channel\n",
    "        self.out_channel = out_channel\n",
    "        self.encoder = nn.Sequential(\n",
    "                                nn.Conv2d(in_channels=in_channel,out_channels=16,kernel_size=3,stride=1,padding=1,bias=False),\n",
    "                                nn.BatchNorm2d(16), \n",
    "                                activation,\n",
    "            \n",
    "                                nn.Conv2d(in_channels=16,out_channels=32,kernel_size=3,stride=1,padding=1,bias=False),\n",
    "                                nn.BatchNorm2d(32), \n",
    "                                activation,\n",
    "            \n",
    "                                nn.Conv2d(in_channels=32,out_channels=32,kernel_size=2,stride=2,padding=1,bias=False),\n",
    "                                nn.BatchNorm2d(32), \n",
    "                                activation,\n",
    "            \n",
    "                                nn.Conv2d(in_channels=32,out_channels=64,kernel_size=3,stride=1,padding=1,bias=False),\n",
    "                                nn.BatchNorm2d(64), \n",
    "                                activation,\n",
    "            \n",
    "                                nn.Conv2d(in_channels=64,out_channels=64,kernel_size=2,stride=2,padding=1,bias=False),\n",
    "                                nn.BatchNorm2d(64), \n",
    "                                activation,\n",
    "            \n",
    "                                nn.Conv2d(in_channels=64,out_channels=128,kernel_size=3,stride=1,padding=1,bias=False),\n",
    "                                nn.BatchNorm2d(128), \n",
    "                                activation,\n",
    "            \n",
    "                                nn.Conv2d(in_channels=128,out_channels=128,kernel_size=2,stride=2,padding=1,bias=False),\n",
    "                                nn.BatchNorm2d(128), \n",
    "                                activation,\n",
    "            \n",
    "                                nn.Conv2d(in_channels=128,out_channels=320,kernel_size=3,stride=1,padding=1,bias=False),\n",
    "                                nn.BatchNorm2d(320), \n",
    "                                activation,\n",
    "            \n",
    "                                nn.Conv2d(in_channels=320,out_channels=240,kernel_size=3,stride=1,padding=1,bias=False),\n",
    "                                nn.BatchNorm2d(240), \n",
    "                                activation,\n",
    "            \n",
    "                                nn.Conv2d(in_channels=240,out_channels=150,kernel_size=3,stride=1,padding=1,bias=False),\n",
    "                                nn.BatchNorm2d(150), \n",
    "                                activation,\n",
    "            \n",
    "                                nn.Conv2d(in_channels=150,out_channels=80,kernel_size=3,stride=2,padding=1,bias=False),\n",
    "                                nn.BatchNorm2d(80), \n",
    "                                activation,\n",
    "            \n",
    "                                nn.Conv2d(in_channels=80,out_channels=40,kernel_size=3,stride=1,padding=1,bias=False),\n",
    "                                nn.BatchNorm2d(40), \n",
    "                                activation,\n",
    "            \n",
    "                                nn.Conv2d(in_channels=40,out_channels=15,kernel_size=3,stride=1,padding=1,bias=False),\n",
    "                                nn.BatchNorm2d(15), \n",
    "                                activation,\n",
    "            \n",
    "                                nn.Flatten(),\n",
    "                                nn.Linear(in_features=15*15*15, out_features=out_channel),\n",
    "                                nn.Softmax(dim=1))\n",
    "        \n",
    "    def forward(self, x):\n",
    "        x = x.view(-1, self.in_channel, 225, 225)\n",
    "        prob = self.encoder(x)\n",
    "        return prob\n",
    "\n",
    "\n",
    "class Decoder(nn.Module):\n",
    "    def __init__(self, in_channel=3, out_channel=1600, activation=nn.GELU()):\n",
    "        super().__init__()\n",
    "        self.in_channel = in_channel\n",
    "        self.out_channel = out_channel\n",
    "\n",
    "        self.mlp = nn.Sequential(\n",
    "                             nn.Linear(in_features=out_channel, out_features=15*15*15, bias=False),\n",
    "                             nn.BatchNorm1d(15*15*15),\n",
    "                             activation,\n",
    "                             nn.Unflatten(1, (15, 15, 15)))\n",
    "        \n",
    "        self.decoder = nn.Sequential(\n",
    "                                nn.ConvTranspose2d(in_channels=15,out_channels=40,kernel_size=3,stride=1,padding=1,output_padding=0,bias=False),\n",
    "                                nn.BatchNorm2d(40), \n",
    "                                activation,\n",
    "            \n",
    "                                nn.ConvTranspose2d(in_channels=40,out_channels=80,kernel_size=3,stride=1,padding=1,output_padding=0,bias=False),\n",
    "                                nn.BatchNorm2d(80), \n",
    "                                activation,\n",
    "            \n",
    "                                nn.ConvTranspose2d(in_channels=80,out_channels=150,kernel_size=3,stride=2,padding=1,output_padding=0,bias=False),\n",
    "                                nn.BatchNorm2d(150), \n",
    "                                activation,\n",
    "            \n",
    "                                nn.ConvTranspose2d(in_channels=150,out_channels=240,kernel_size=3,stride=1,padding=1,output_padding=0,bias=False),\n",
    "                                nn.BatchNorm2d(240), \n",
    "                                activation,\n",
    "            \n",
    "                                nn.ConvTranspose2d(in_channels=240,out_channels=320,kernel_size=3,stride=1,padding=1,output_padding=0,bias=False),\n",
    "                                nn.BatchNorm2d(320), \n",
    "                                activation,\n",
    "            \n",
    "                                nn.ConvTranspose2d(in_channels=320,out_channels=128,kernel_size=3,stride=1,padding=1,output_padding=0,bias=False),\n",
    "                                nn.BatchNorm2d(128), \n",
    "                                activation,\n",
    "            \n",
    "                                nn.ConvTranspose2d(in_channels=128,out_channels=128,kernel_size=3,stride=2,padding=1,output_padding=0,bias=False),\n",
    "                                nn.BatchNorm2d(128), \n",
    "                                activation,\n",
    "            \n",
    "                                nn.ConvTranspose2d(in_channels=128,out_channels=64,kernel_size=3,stride=1,padding=1,output_padding=0,bias=False),\n",
    "                                nn.BatchNorm2d(64), \n",
    "                                activation,\n",
    "            \n",
    "                                nn.ConvTranspose2d(in_channels=64,out_channels=64,kernel_size=3,stride=2,padding=2,output_padding=0,bias=False),\n",
    "                                nn.BatchNorm2d(64), \n",
    "                                activation,\n",
    "            \n",
    "                                nn.ConvTranspose2d(in_channels=64,out_channels=32,kernel_size=3,stride=1,padding=1,output_padding=0,bias=False),\n",
    "                                nn.BatchNorm2d(32), \n",
    "                                activation,\n",
    "            \n",
    "                                nn.ConvTranspose2d(in_channels=32,out_channels=32,kernel_size=3,stride=2,padding=1,output_padding=0,bias=False),\n",
    "                                nn.BatchNorm2d(32), \n",
    "                                activation,\n",
    "            \n",
    "                                nn.ConvTranspose2d(in_channels=32,out_channels=16,kernel_size=3,stride=1,padding=0,output_padding=0,bias=False),\n",
    "                                nn.BatchNorm2d(16), \n",
    "                                activation,\n",
    "            \n",
    "                                nn.ConvTranspose2d(in_channels=16, out_channels=in_channel, kernel_size=3, stride=1, padding=0, output_padding=0),\n",
    "                                nn.Sigmoid())\n",
    "    \n",
    "    def forward(self, x):\n",
    "        x = x.view(-1, self.out_channel)\n",
    "        temp = self.mlp(x)\n",
    "        temp = temp.view(-1,15,15,15)\n",
    "        output = self.decoder(temp)\n",
    "        return output"
   ]
  },
  {
   "cell_type": "code",
   "execution_count": 5,
   "metadata": {},
   "outputs": [],
   "source": [
    "enc_out = 64\n",
    "encoder = Encoder(out_channel = enc_out)\n",
    "\n",
    "rand_mat_dim = 32\n",
    "decoder = Decoder(out_channel = rand_mat_dim)"
   ]
  },
  {
   "cell_type": "code",
   "execution_count": 6,
   "metadata": {},
   "outputs": [],
   "source": [
    "rand_mat = torch.randn(rand_mat_dim, enc_out, requires_grad=False, device='cuda' if torch.cuda.is_available() else 'cpu')\n",
    "rand_mat = rand_mat.div(torch.norm(rand_mat, dim = 0))"
   ]
  },
  {
   "cell_type": "code",
   "execution_count": 7,
   "metadata": {},
   "outputs": [],
   "source": [
    "class AE(torch.nn.Module):\n",
    "    def __init__(self, encoder, decoder, rand_mat):\n",
    "        super().__init__()\n",
    "        self.encoder = encoder\n",
    "        self.decoder = decoder\n",
    "        self.rand_mat = rand_mat\n",
    "        \n",
    "    def forward(self, x):\n",
    "        enc = encoder(x)\n",
    "        all_dps = []\n",
    "        for batch in enc:\n",
    "            all_dps.append(torch.mv(self.rand_mat, batch))\n",
    "        Dp = torch.stack(all_dps)\n",
    "        \n",
    "        p_vec = F.softmax(Dp, dim = 1)\n",
    "        \n",
    "        \n",
    "        \n",
    "        dec = decoder(p_vec)\n",
    "        return dec, p_vec"
   ]
  },
  {
   "cell_type": "code",
   "execution_count": 8,
   "metadata": {},
   "outputs": [
    {
     "data": {
      "text/plain": [
       "tensor([[-0.1994, -0.0822,  0.1937,  ..., -0.0753, -0.1839, -0.0452],\n",
       "        [ 0.1148,  0.2247,  0.2497,  ..., -0.2038, -0.1713, -0.2483],\n",
       "        [ 0.0657, -0.1869,  0.0702,  ..., -0.0606, -0.2305, -0.1344],\n",
       "        ...,\n",
       "        [-0.0544,  0.1135,  0.0790,  ...,  0.1573,  0.1083,  0.2150],\n",
       "        [ 0.0575, -0.0059, -0.3281,  ...,  0.3873,  0.2212,  0.1074],\n",
       "        [ 0.0859, -0.1636, -0.0506,  ...,  0.0365,  0.4079, -0.1700]],\n",
       "       device='cuda:0')"
      ]
     },
     "execution_count": 8,
     "metadata": {},
     "output_type": "execute_result"
    }
   ],
   "source": [
    "rand_mat"
   ]
  },
  {
   "cell_type": "code",
   "execution_count": 9,
   "metadata": {},
   "outputs": [],
   "source": [
    "device = torch.device('cuda' if torch.cuda.is_available() else 'cpu')\n",
    "\n",
    "encoder = Encoder(out_channel = enc_out)\n",
    "decoder = Decoder(out_channel = rand_mat_dim)\n",
    "temp = torch.randn(rand_mat_dim, enc_out, requires_grad=False, device='cuda' if torch.cuda.is_available() else 'cpu')\n",
    "temp = rand_mat.div(torch.norm(rand_mat, dim = 0))\n",
    "\n",
    "model = AE(encoder, decoder, rand_mat=temp).to(device)\n",
    "model.load_state_dict(torch.load('./models/scae_model_gs.pth'))\n",
    "model.rand_mat = torch.load('./models/scae_model_rand_mat.pth')\n",
    "\n",
    "# setting the encoder and decoder for visualization\n",
    "encoder = model.encoder\n",
    "decoder = model.decoder\n",
    "rand_mat = model.rand_mat"
   ]
  },
  {
   "cell_type": "code",
   "execution_count": 10,
   "metadata": {},
   "outputs": [],
   "source": [
    "# input and output arrays\n",
    "encoded_imgs_arr = []\n",
    "label_arr = []\n",
    "torch.set_default_device('cuda')\n",
    "\n",
    "for (inp, label) in train_loader:\n",
    "    model.eval()\n",
    "    with torch.no_grad():\n",
    "        inp = inp.to(device)\n",
    "        oup, p_vec = model(inp)\n",
    "        \n",
    "        # append the p_vec as numpy array, returned as [[]], make into []\n",
    "        encoded_imgs_arr.append(p_vec.cpu().numpy()[0])\n",
    "        label_arr.append(label.item())\n",
    "\n",
    "\n"
   ]
  },
  {
   "cell_type": "code",
   "execution_count": 26,
   "metadata": {},
   "outputs": [
    {
     "name": "stdout",
     "output_type": "stream",
     "text": [
      "Done\n"
     ]
    }
   ],
   "source": [
    "k = 5\n",
    "kmeans = KMeans(n_clusters=k)\n",
    "kmeans.fit(encoded_imgs_arr)\n",
    "print(\"Done\")"
   ]
  },
  {
   "cell_type": "code",
   "execution_count": 27,
   "metadata": {},
   "outputs": [
    {
     "name": "stdout",
     "output_type": "stream",
     "text": [
      "Sum of squared distance to closest cluster center: 0.0001473652960125026\n"
     ]
    }
   ],
   "source": [
    "print(f\"Sum of squared distance to closest cluster center: {kmeans.inertia_}\")"
   ]
  },
  {
   "cell_type": "code",
   "execution_count": 28,
   "metadata": {},
   "outputs": [],
   "source": [
    "from sklearn.manifold import TSNE"
   ]
  },
  {
   "cell_type": "code",
   "execution_count": 29,
   "metadata": {},
   "outputs": [
    {
     "name": "stderr",
     "output_type": "stream",
     "text": [
      "/opt/ohpc/pub/apps/python/3.8.12/lib/python3.8/site-packages/sklearn/manifold/_t_sne.py:780: FutureWarning: The default initialization in TSNE will change from 'random' to 'pca' in 1.2.\n",
      "  warnings.warn(\n",
      "/opt/ohpc/pub/apps/python/3.8.12/lib/python3.8/site-packages/sklearn/manifold/_t_sne.py:790: FutureWarning: The default learning rate in TSNE will change from 200.0 to 'auto' in 1.2.\n",
      "  warnings.warn(\n"
     ]
    }
   ],
   "source": [
    "tsne = TSNE(n_components=2)\n",
    "tsne_results = tsne.fit_transform(encoded_imgs_arr) # fit_transform or fit?"
   ]
  },
  {
   "cell_type": "code",
   "execution_count": 47,
   "metadata": {},
   "outputs": [],
   "source": [
    "col_names = [\"X T-SNE\", \"Y T-SNE\", \n",
    "             \"True Label\", \"K-means Grouping\", \"Color T\", \"Color K\"]\n",
    "df = pd.DataFrame(list(zip(tsne_results[:,0], \n",
    "                           tsne_results[:,1], \n",
    "                           label_arr, \n",
    "                           kmeans.labels_,\n",
    "                           kmeans.labels_,               # temp for colors\n",
    "                           kmeans.labels_)),             # temp for colors\n",
    "                 columns=col_names)\n",
    "\n",
    "colors = list(mcolors.TABLEAU_COLORS)\n",
    "for i in range(k):\n",
    "    df.loc[df[\"K-means Grouping\"] == i, \"Color K\"] = colors[i]\n",
    "\n",
    "for i in range(max(label_arr) - min(label_arr) + 1):\n",
    "    df.loc[df[\"True Label\"] == i, \"Color T\"] = colors[i]\n"
   ]
  },
  {
   "cell_type": "code",
   "execution_count": 48,
   "metadata": {},
   "outputs": [
    {
     "data": {
      "text/html": [
       "<div>\n",
       "<style scoped>\n",
       "    .dataframe tbody tr th:only-of-type {\n",
       "        vertical-align: middle;\n",
       "    }\n",
       "\n",
       "    .dataframe tbody tr th {\n",
       "        vertical-align: top;\n",
       "    }\n",
       "\n",
       "    .dataframe thead th {\n",
       "        text-align: right;\n",
       "    }\n",
       "</style>\n",
       "<table border=\"1\" class=\"dataframe\">\n",
       "  <thead>\n",
       "    <tr style=\"text-align: right;\">\n",
       "      <th></th>\n",
       "      <th>X T-SNE</th>\n",
       "      <th>Y T-SNE</th>\n",
       "      <th>True Label</th>\n",
       "      <th>K-means Grouping</th>\n",
       "      <th>Color T</th>\n",
       "      <th>Color K</th>\n",
       "    </tr>\n",
       "  </thead>\n",
       "  <tbody>\n",
       "    <tr>\n",
       "      <th>0</th>\n",
       "      <td>-6.518442</td>\n",
       "      <td>32.127979</td>\n",
       "      <td>1</td>\n",
       "      <td>4</td>\n",
       "      <td>tab:orange</td>\n",
       "      <td>tab:purple</td>\n",
       "    </tr>\n",
       "    <tr>\n",
       "      <th>1</th>\n",
       "      <td>-15.894335</td>\n",
       "      <td>16.048113</td>\n",
       "      <td>2</td>\n",
       "      <td>1</td>\n",
       "      <td>tab:green</td>\n",
       "      <td>tab:orange</td>\n",
       "    </tr>\n",
       "    <tr>\n",
       "      <th>2</th>\n",
       "      <td>-5.183928</td>\n",
       "      <td>14.107293</td>\n",
       "      <td>1</td>\n",
       "      <td>3</td>\n",
       "      <td>tab:orange</td>\n",
       "      <td>tab:red</td>\n",
       "    </tr>\n",
       "    <tr>\n",
       "      <th>3</th>\n",
       "      <td>-14.658704</td>\n",
       "      <td>17.846201</td>\n",
       "      <td>2</td>\n",
       "      <td>1</td>\n",
       "      <td>tab:green</td>\n",
       "      <td>tab:orange</td>\n",
       "    </tr>\n",
       "    <tr>\n",
       "      <th>4</th>\n",
       "      <td>-37.822273</td>\n",
       "      <td>-13.659406</td>\n",
       "      <td>2</td>\n",
       "      <td>2</td>\n",
       "      <td>tab:green</td>\n",
       "      <td>tab:green</td>\n",
       "    </tr>\n",
       "  </tbody>\n",
       "</table>\n",
       "</div>"
      ],
      "text/plain": [
       "     X T-SNE    Y T-SNE  True Label  K-means Grouping     Color T     Color K\n",
       "0  -6.518442  32.127979           1                 4  tab:orange  tab:purple\n",
       "1 -15.894335  16.048113           2                 1   tab:green  tab:orange\n",
       "2  -5.183928  14.107293           1                 3  tab:orange     tab:red\n",
       "3 -14.658704  17.846201           2                 1   tab:green  tab:orange\n",
       "4 -37.822273 -13.659406           2                 2   tab:green   tab:green"
      ]
     },
     "execution_count": 48,
     "metadata": {},
     "output_type": "execute_result"
    }
   ],
   "source": [
    "df.head()"
   ]
  },
  {
   "cell_type": "code",
   "execution_count": 46,
   "metadata": {},
   "outputs": [
    {
     "data": {
      "image/png": "[encoded data removed]",
      "text/plain": [
       "<Figure size 432x288 with 1 Axes>"
      ]
     },
     "metadata": {},
     "output_type": "display_data"
    }
   ],
   "source": [
    "for color, df_group in df.groupby(\"Color K\"):\n",
    "    plt.scatter(df_group[\"X T-SNE\"], df_group[\"Y T-SNE\"], c=df_group[\"Color K\"], \n",
    "                label=f\"Feature {color}\")\n",
    "    \n",
    "plt.xticks([])  \n",
    "plt.yticks([])\n",
    "plt.title(\"T-SNE Clustering, with K-Mean as coloring\")\n",
    "\n",
    "legend_arr = [f\"Cluster {i+1}\" for i in range(k)]\n",
    "plt.legend(legend_arr)\n",
    "plt.show()"
   ]
  },
  {
   "cell_type": "code",
   "execution_count": 53,
   "metadata": {},
   "outputs": [
    {
     "data": {
      "image/png": "[encoded data removed]",
      "text/plain": [
       "<Figure size 432x288 with 1 Axes>"
      ]
     },
     "metadata": {},
     "output_type": "display_data"
    }
   ],
   "source": [
    "for color, df_group in df.groupby(\"Color T\"):\n",
    "    plt.scatter(df_group[\"X T-SNE\"], df_group[\"Y T-SNE\"], c=df_group[\"Color T\"], \n",
    "                label=f\"Feature {color}\")\n",
    "    \n",
    "plt.xticks([])  \n",
    "plt.yticks([])\n",
    "plt.title(\"T-SNE Clustering, with True Label as coloring\")\n",
    "\n",
    "legend_arr = [f\"Cluster {i+1}\" for i in range(max(label_arr) - min(label_arr) +1)]\n",
    "plt.legend(legend_arr)\n",
    "plt.show()"
   ]
  },
  {
   "cell_type": "code",
   "execution_count": null,
   "metadata": {},
   "outputs": [],
   "source": []
  }
 ],
 "metadata": {
  "kernelspec": {
   "display_name": "Python 3 (ipykernel)",
   "language": "python",
   "name": "python3"
  },
  "language_info": {
   "codemirror_mode": {
    "name": "ipython",
    "version": 3
   },
   "file_extension": ".py",
   "mimetype": "text/x-python",
   "name": "python",
   "nbconvert_exporter": "python",
   "pygments_lexer": "ipython3",
   "version": "3.8.12"
  }
 },
 "nbformat": 4,
 "nbformat_minor": 1
}
