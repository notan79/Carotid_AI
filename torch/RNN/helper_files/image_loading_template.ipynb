{
 "cells": [
  {
   "cell_type": "code",
   "execution_count": 1,
   "id": "a1706f63",
   "metadata": {},
   "outputs": [],
   "source": [
    "import os"
   ]
  },
  {
   "cell_type": "code",
   "execution_count": 2,
   "id": "ea6e5b7d",
   "metadata": {},
   "outputs": [],
   "source": [
    "PATH = '/groups/francescavitali/eb2/subImages2/H&E'\n",
    "PATH = '/groups/francescavitali/eb2/subImages_slide299/H&E'"
   ]
  },
  {
   "cell_type": "code",
   "execution_count": 3,
   "id": "0d298daa",
   "metadata": {},
   "outputs": [
    {
     "data": {
      "text/plain": [
       "['S', 'A']"
      ]
     },
     "execution_count": 3,
     "metadata": {},
     "output_type": "execute_result"
    }
   ],
   "source": [
    "os.listdir(PATH)"
   ]
  },
  {
   "cell_type": "code",
   "execution_count": 4,
   "id": "738b9261",
   "metadata": {},
   "outputs": [],
   "source": [
    "import torch\n",
    "from torchvision import datasets"
   ]
  },
  {
   "cell_type": "code",
   "execution_count": 5,
   "id": "46319d74",
   "metadata": {},
   "outputs": [],
   "source": [
    "dataset = datasets.ImageFolder(PATH) # loading the images"
   ]
  },
  {
   "cell_type": "code",
   "execution_count": 6,
   "id": "39e08ddf",
   "metadata": {},
   "outputs": [
    {
     "data": {
      "text/plain": [
       "Dataset ImageFolder\n",
       "    Number of datapoints: 506\n",
       "    Root location: /groups/francescavitali/eb2/subImages_slide299/H&E"
      ]
     },
     "execution_count": 6,
     "metadata": {},
     "output_type": "execute_result"
    }
   ],
   "source": [
    "dataset"
   ]
  },
  {
   "cell_type": "code",
   "execution_count": 7,
   "id": "56d1dacb",
   "metadata": {},
   "outputs": [],
   "source": [
    "dir1 = os.listdir(PATH + '/A')\n",
    "dir2 = os.listdir(PATH + '/S')\n"
   ]
  },
  {
   "cell_type": "code",
   "execution_count": 8,
   "id": "94861a5f",
   "metadata": {},
   "outputs": [
    {
     "name": "stdout",
     "output_type": "stream",
     "text": [
      "311\n"
     ]
    }
   ],
   "source": [
    "count1 = 0\n",
    "for folder in dir1:\n",
    "    count1 += len(os.listdir(PATH + '/A/' +folder))\n",
    "    \n",
    "print(count1)"
   ]
  },
  {
   "cell_type": "code",
   "execution_count": 9,
   "id": "afd21e4f",
   "metadata": {},
   "outputs": [
    {
     "name": "stdout",
     "output_type": "stream",
     "text": [
      "195\n"
     ]
    }
   ],
   "source": [
    "count2 = 0\n",
    "for folder in dir2:\n",
    "    count2 += len(os.listdir(PATH + '/S/' +folder))\n",
    "    \n",
    "print(count2)"
   ]
  },
  {
   "cell_type": "code",
   "execution_count": 10,
   "id": "9776950b",
   "metadata": {},
   "outputs": [
    {
     "name": "stdout",
     "output_type": "stream",
     "text": [
      "True\n"
     ]
    }
   ],
   "source": [
    "print(count1 + count2 == len(dataset))"
   ]
  },
  {
   "cell_type": "code",
   "execution_count": null,
   "id": "f2fee4d9",
   "metadata": {},
   "outputs": [],
   "source": []
  }
 ],
 "metadata": {
  "kernelspec": {
   "display_name": "Python 3 (ipykernel)",
   "language": "python",
   "name": "python3"
  },
  "language_info": {
   "codemirror_mode": {
    "name": "ipython",
    "version": 3
   },
   "file_extension": ".py",
   "mimetype": "text/x-python",
   "name": "python",
   "nbconvert_exporter": "python",
   "pygments_lexer": "ipython3",
   "version": "3.8.12"
  }
 },
 "nbformat": 4,
 "nbformat_minor": 5
}
