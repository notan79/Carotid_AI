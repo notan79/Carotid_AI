{
 "cells": [
  {
   "cell_type": "code",
   "execution_count": 1,
   "id": "c474059f",
   "metadata": {},
   "outputs": [],
   "source": [
    "import math"
   ]
  },
  {
   "cell_type": "code",
   "execution_count": 44,
   "id": "3fdbfe39",
   "metadata": {},
   "outputs": [],
   "source": [
    "H = 96\n",
    "W = H\n",
    "padding = 0\n",
    "dilation = 1 # default\n",
    "kernel_size = 16\n",
    "stride = 4"
   ]
  },
  {
   "cell_type": "code",
   "execution_count": 45,
   "id": "c1faac59",
   "metadata": {},
   "outputs": [
    {
     "name": "stdout",
     "output_type": "stream",
     "text": [
      "New height: 21\n",
      "New width: 21\n"
     ]
    }
   ],
   "source": [
    "# for Conv2D\n",
    "h_out = math.ceil( (H + 2*padding - dilation*(kernel_size - 1) - 1)/stride + 1)\n",
    "w_out = math.ceil( (W + 2*padding - dilation*(kernel_size - 1) - 1)/stride + 1)\n",
    "print(f'New height: {h_out}\\nNew width: {w_out}')"
   ]
  },
  {
   "cell_type": "code",
   "execution_count": 58,
   "id": "17c65ada",
   "metadata": {},
   "outputs": [],
   "source": [
    "H = 96\n",
    "W = 96\n",
    "padding = 1\n",
    "output_padding = 0\n",
    "dilation = 1 # default\n",
    "kernel_size = 16\n",
    "stride = 3"
   ]
  },
  {
   "cell_type": "code",
   "execution_count": 59,
   "id": "dc4d4458",
   "metadata": {},
   "outputs": [
    {
     "name": "stdout",
     "output_type": "stream",
     "text": [
      "New height: 299\n",
      "New width: 299\n"
     ]
    }
   ],
   "source": [
    "# for ConvTranspose2d\n",
    "h_out = (H-1)*stride-2*padding+dilation*(kernel_size-1)+output_padding+1\n",
    "w_out = (W-1)*stride-2*padding+dilation*(kernel_size-1)+output_padding+1\n",
    "print(f'New height: {h_out}\\nNew width: {w_out}')"
   ]
  },
  {
   "cell_type": "code",
   "execution_count": null,
   "id": "64c2c2d8",
   "metadata": {},
   "outputs": [],
   "source": []
  }
 ],
 "metadata": {
  "kernelspec": {
   "display_name": "Python 3 (ipykernel)",
   "language": "python",
   "name": "python3"
  },
  "language_info": {
   "codemirror_mode": {
    "name": "ipython",
    "version": 3
   },
   "file_extension": ".py",
   "mimetype": "text/x-python",
   "name": "python",
   "nbconvert_exporter": "python",
   "pygments_lexer": "ipython3",
   "version": "3.8.12"
  }
 },
 "nbformat": 4,
 "nbformat_minor": 5
}
