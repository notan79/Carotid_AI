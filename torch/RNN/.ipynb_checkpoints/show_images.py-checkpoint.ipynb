{
 "cells": [
  {
   "cell_type": "code",
   "execution_count": null,
   "id": "f8241177",
   "metadata": {},
   "outputs": [],
   "source": [
    "def show_images(img_set, amt=10):\n",
    "    auto_encoder_output = []\n",
    "    encoded_imgs_arr = []\n",
    "    decoded_imgs_arr = []\n",
    "\n",
    "    for x in range(len(img_set)):\n",
    "        with torch.no_grad():\n",
    "            inp = img_set.__getitem__(x)[0].to(device).flatten()\n",
    "\n",
    "            encoded_imgs = encoder(inp)\n",
    "            encoded_imgs_arr.append(encoded_imgs)\n",
    "\n",
    "            decoded_imgs = decoder(encoded_imgs)\n",
    "            decoded_imgs_arr.append((inp, decoded_imgs))\n",
    "\n",
    "            auto_encoder_output.append((inp, model(inp)))\n",
    "            \n",
    "    \n",
    "    plt.figure(figsize=(20,4))\n",
    "\n",
    "\n",
    "    for k in range(amt):\n",
    "        ax = plt.subplot(4, amt, k+1)\n",
    "\n",
    "        img = decoded_imgs_arr[k][0]\n",
    "        img = torch.unflatten(img, 0, (3, 299, 299)).detach().cpu().numpy()\n",
    "        plt.imshow(np.transpose(img, (1,2,0))) # changes to rgb\n",
    "        ax.get_xaxis().set_visible(False)\n",
    "        ax.get_yaxis().set_visible(False)\n",
    "\n",
    "        ax = plt.subplot(4,amt, k+1+amt)\n",
    "        plt.gray()\n",
    "\n",
    "        img = encoded_imgs_arr[k].detach().cpu().numpy()\n",
    "        img = img.reshape(-1,32,16)\n",
    "        plt.imshow(img[0])\n",
    "        ax.get_xaxis().set_visible(False)\n",
    "        ax.get_yaxis().set_visible(False)\n",
    "\n",
    "\n",
    "        ax = plt.subplot(4,amt, k+1+2*amt)\n",
    "        recon = decoded_imgs_arr[k][1]\n",
    "        recon = torch.unflatten(recon, 0, (3, 299, 299)).detach().cpu().numpy()\n",
    "        plt.imshow(np.transpose(recon, (1,2,0)))\n",
    "        ax.get_xaxis().set_visible(False)\n",
    "        ax.get_yaxis().set_visible(False)\n",
    "\n",
    "        ax = plt.subplot(4,amt, k+1+3*amt)\n",
    "\n",
    "        recon = auto_encoder_output[k][1]\n",
    "        recon = torch.unflatten(recon, 0, (3,299,299)).detach().cpu().numpy()\n",
    "        plt.imshow(np.transpose(recon, (1,2,0)))\n",
    "        ax.get_xaxis().set_visible(False)\n",
    "        ax.get_yaxis().set_visible(False)"
   ]
  }
 ],
 "metadata": {
  "kernelspec": {
   "display_name": "Python 3 (ipykernel)",
   "language": "python",
   "name": "python3"
  },
  "language_info": {
   "codemirror_mode": {
    "name": "ipython",
    "version": 3
   },
   "file_extension": ".py",
   "mimetype": "text/x-python",
   "name": "python",
   "nbconvert_exporter": "python",
   "pygments_lexer": "ipython3",
   "version": "3.8.12"
  }
 },
 "nbformat": 4,
 "nbformat_minor": 5
}
