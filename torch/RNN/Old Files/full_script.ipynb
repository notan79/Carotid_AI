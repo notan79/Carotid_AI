{
 "cells": [
  {
   "cell_type": "code",
   "execution_count": 1,
   "id": "89f31b47",
   "metadata": {},
   "outputs": [],
   "source": [
    "import torch\n",
    "from torchvision import datasets, transforms\n",
    "import matplotlib.pyplot as plt\n",
    "import numpy as np\n",
    "import sys\n",
    "import os\n",
    "from autoencoder import AE"
   ]
  },
  {
   "cell_type": "code",
   "execution_count": 2,
   "id": "de636c60",
   "metadata": {},
   "outputs": [
    {
     "name": "stdout",
     "output_type": "stream",
     "text": [
      "cpu\n"
     ]
    }
   ],
   "source": [
    "device = torch.device('cuda' if torch.cuda.is_available() else 'cpu') # cuda for gpus, cpu otherwise\n",
    "torch.set_default_device('cuda' if torch.cuda.is_available() else 'cpu')\n",
    "print(device)"
   ]
  },
  {
   "cell_type": "code",
   "execution_count": 3,
   "id": "112facc2",
   "metadata": {},
   "outputs": [],
   "source": [
    "BATCH_SIZE = 64\n",
    "LEARNING_RATE = 0.001\n",
    "WEIGHT_DECAY = 1e-5\n",
    "ENCODE_DIM = 4096 # increase this with more storage?\n",
    "HIDDEN_LAYER = 2*ENCODE_DIM\n",
    "EPOCHS = 2"
   ]
  },
  {
   "cell_type": "code",
   "execution_count": 4,
   "id": "dff79623",
   "metadata": {},
   "outputs": [
    {
     "name": "stdout",
     "output_type": "stream",
     "text": [
      "Compression amount: 0.01527201410871616\n"
     ]
    }
   ],
   "source": [
    "print(f'Compression amount: {ENCODE_DIM / (299*299*3)}')"
   ]
  },
  {
   "cell_type": "code",
   "execution_count": 5,
   "id": "ec62be4a",
   "metadata": {},
   "outputs": [],
   "source": [
    "PATH = '/groups/francescavitali/eb2/subImages2/H&E'\n",
    "\n",
    "tensor_transform = transforms.ToTensor()\n",
    "\n",
    "dataset = datasets.ImageFolder(PATH, \n",
    "                              transform = tensor_transform) #loads the images\n",
    "\n",
    "train_set, test_set = torch.utils.data.random_split(dataset,\n",
    "                                                   [194,10],\n",
    "                                                   generator=torch.Generator(device=device))\n",
    "\n",
    "loader = torch.utils.data.DataLoader(dataset = train_set,\n",
    "                                    batch_size = BATCH_SIZE,\n",
    "                                    shuffle = True,\n",
    "                                    generator=torch.Generator(device=device))"
   ]
  },
  {
   "cell_type": "code",
   "execution_count": 6,
   "id": "9e18d03c",
   "metadata": {},
   "outputs": [
    {
     "name": "stdout",
     "output_type": "stream",
     "text": [
      "Minimum value: tensor(0.0039)\n",
      "Maximum value: tensor(1.)\n"
     ]
    }
   ],
   "source": [
    "# checks the range of the pixels\n",
    "dataiter = iter(loader)\n",
    "images, labels = next(dataiter)\n",
    "print(f'Minimum value: ', end='')\n",
    "print(torch.min(images))\n",
    "print(f'Maximum value: ', end='')\n",
    "print(torch.max(images))"
   ]
  },
  {
   "cell_type": "code",
   "execution_count": 7,
   "id": "6780b293",
   "metadata": {},
   "outputs": [],
   "source": [
    "model = AE(299*299*3, HIDDEN_LAYER, ENCODE_DIM).to(device) # 299x299 and RGB images\n",
    "\n",
    "loss_function = torch.nn.BCELoss()\n",
    "\n",
    "optimizer = torch.optim.Adam(model.parameters(), lr = LEARNING_RATE, weight_decay = WEIGHT_DECAY)"
   ]
  },
  {
   "cell_type": "code",
   "execution_count": 8,
   "id": "04a3347d",
   "metadata": {},
   "outputs": [
    {
     "name": "stdout",
     "output_type": "stream",
     "text": [
      "AE(\n",
      "  (encoder): Sequential(\n",
      "    (0): Linear(in_features=268203, out_features=8192, bias=True)\n",
      "    (1): ReLU()\n",
      "    (2): Linear(in_features=8192, out_features=4096, bias=True)\n",
      "    (3): ReLU()\n",
      "  )\n",
      "  (decoder): Sequential(\n",
      "    (0): Linear(in_features=4096, out_features=8192, bias=True)\n",
      "    (1): ReLU()\n",
      "    (2): Linear(in_features=8192, out_features=268203, bias=True)\n",
      "    (3): Sigmoid()\n",
      "  )\n",
      ")\n"
     ]
    }
   ],
   "source": [
    "print(model)"
   ]
  },
  {
   "cell_type": "code",
   "execution_count": 9,
   "id": "4676e685",
   "metadata": {
    "scrolled": true
   },
   "outputs": [
    {
     "name": "stdout",
     "output_type": "stream",
     "text": [
      "Epoch: 1 [===] 100.0% | Loss: 6.650739803910255\n",
      "Epoch: 1 | Loss: 6.6507\n",
      "\n",
      "Epoch: 2 [===] 100.0% | Loss: 7.4667603969573975\n",
      "Epoch: 2 | Loss: 7.4668\n",
      "\n"
     ]
    }
   ],
   "source": [
    "#os.environ['PYTORCH_CUDA_ALLOC_CONF'] = 'expandable_segments:True'\n",
    "outputs = []\n",
    "for epoch in range(EPOCHS):\n",
    "    \n",
    "    count = 0\n",
    "    loss_total = 0\n",
    "    \n",
    "    model.train()\n",
    "    for (image, _) in loader:\n",
    "        image = image.to(device)\n",
    "        image = image.flatten(start_dim=1) # ignore the batch_size\n",
    "        \n",
    "        recon = model(image)\n",
    "        loss = loss_function(recon, image)\n",
    "        \n",
    "        optimizer.zero_grad()\n",
    "        loss.backward()\n",
    "        optimizer.step()\n",
    "                \n",
    "        # UI\n",
    "        sys.stdout.write('\\r')\n",
    "        loss_total += loss.item()\n",
    "        sys.stdout.write(\"Epoch: {} [{:{}}] {:.1f}% | Loss: {}\".format(epoch+1, \"=\"*count, \n",
    "                                                                       len(loader)-1, \n",
    "                                                                       (100/(len(loader)-1)*count), \n",
    "                                                                       loss_total/(count+1)))\n",
    "        sys.stdout.flush()\n",
    "        \n",
    "        count += 1\n",
    "    outputs.append((epoch, image[1], recon[1]))\n",
    "\n",
    "    print(f'\\nEpoch: {epoch + 1} | Loss: {(loss_total)/len(loader):.4f}', end='\\n'*2)"
   ]
  },
  {
   "cell_type": "code",
   "execution_count": 10,
   "id": "74c526c4",
   "metadata": {},
   "outputs": [
    {
     "name": "stdout",
     "output_type": "stream",
     "text": [
      "2\n"
     ]
    },
    {
     "data": {
      "image/png": "[encoded data removed]",
      "text/plain": [
       "<Figure size 1440x288 with 4 Axes>"
      ]
     },
     "metadata": {
      "needs_background": "light"
     },
     "output_type": "display_data"
    }
   ],
   "source": [
    "amt = 10\n",
    "plt.figure(figsize=(20,4))\n",
    "print(len(outputs))\n",
    "\n",
    "for i in range(len(outputs)):\n",
    "    img = outputs[i][1]\n",
    "    recon = outputs[i][2]\n",
    "        \n",
    "    ax = plt.subplot(4, amt, i+1)\n",
    "    img = torch.unflatten(img, 0, (3, 299, 299)).detach().cpu().numpy()\n",
    "    plt.imshow(np.transpose(img, (1,2,0))) # changes to rgb\n",
    "    ax.get_xaxis().set_visible(False)\n",
    "    ax.get_yaxis().set_visible(False)\n",
    "\n",
    "    ax = plt.subplot(4,amt, i+1+amt)\n",
    "    \n",
    "\n",
    "\n",
    "    recon = torch.unflatten(recon, 0, (3,299,299)).detach().cpu().numpy()\n",
    "    plt.imshow(np.transpose(recon, (1,2,0)))\n",
    "    ax.get_xaxis().set_visible(False)\n",
    "    ax.get_yaxis().set_visible(False)\n",
    "    "
   ]
  },
  {
   "cell_type": "code",
   "execution_count": 11,
   "id": "0bd4b0da",
   "metadata": {},
   "outputs": [],
   "source": [
    "torch.save(model.state_dict(), './models/model.pth') # save in case crashes"
   ]
  },
  {
   "cell_type": "code",
   "execution_count": 12,
   "id": "8566be50",
   "metadata": {},
   "outputs": [],
   "source": [
    "encoder = model.encoder\n",
    "decoder = model.decoder"
   ]
  },
  {
   "cell_type": "code",
   "execution_count": 13,
   "id": "d48d1b97",
   "metadata": {},
   "outputs": [],
   "source": [
    "auto_encoder_output = []\n",
    "encoded_imgs_arr = []\n",
    "decoded_imgs_arr = []\n",
    "img_set = test_set # test_set\n",
    "\n",
    "for x in range(len(img_set)):\n",
    "    with torch.no_grad():\n",
    "        inp = img_set.__getitem__(x)[0].to(device).flatten()\n",
    "        \n",
    "        encoded_imgs = encoder(inp)\n",
    "        encoded_imgs_arr.append(encoded_imgs)\n",
    "        \n",
    "        decoded_imgs = decoder(encoded_imgs)\n",
    "        decoded_imgs_arr.append((inp, decoded_imgs))\n",
    "        \n",
    "        auto_encoder_output.append((inp, model(inp)))"
   ]
  },
  {
   "cell_type": "code",
   "execution_count": 14,
   "id": "8a4cdbe2",
   "metadata": {},
   "outputs": [
    {
     "data": {
      "image/png": "[encoded data removed]",
      "text/plain": [
       "<Figure size 1440x288 with 40 Axes>"
      ]
     },
     "metadata": {
      "needs_background": "light"
     },
     "output_type": "display_data"
    }
   ],
   "source": [
    "amt = 10\n",
    "plt.figure(figsize=(20,4))\n",
    "\n",
    "\n",
    "for k in range(amt):\n",
    "    ax = plt.subplot(4, amt, k+1)\n",
    "    \n",
    "    img = decoded_imgs_arr[k][0]\n",
    "    img = torch.unflatten(img, 0, (3, 299, 299)).detach().cpu().numpy()\n",
    "    plt.imshow(np.transpose(img, (1,2,0))) # changes to rgb\n",
    "    ax.get_xaxis().set_visible(False)\n",
    "    ax.get_yaxis().set_visible(False)\n",
    "\n",
    "    ax = plt.subplot(4,amt, k+1+amt)\n",
    "    plt.gray()\n",
    "\n",
    "    img = encoded_imgs_arr[k].detach().cpu().numpy()\n",
    "    img = img.reshape(-1,32,16)\n",
    "    plt.imshow(img[0])\n",
    "    ax.get_xaxis().set_visible(False)\n",
    "    ax.get_yaxis().set_visible(False)\n",
    "    \n",
    "    \n",
    "    ax = plt.subplot(4,amt, k+1+2*amt)\n",
    "    recon = decoded_imgs_arr[k][1]\n",
    "    recon = torch.unflatten(recon, 0, (3, 299, 299)).detach().cpu().numpy()\n",
    "    plt.imshow(np.transpose(recon, (1,2,0)))\n",
    "    ax.get_xaxis().set_visible(False)\n",
    "    ax.get_yaxis().set_visible(False)\n",
    "\n",
    "    ax = plt.subplot(4,amt, k+1+3*amt)\n",
    "\n",
    "    recon = auto_encoder_output[k][1]\n",
    "    recon = torch.unflatten(recon, 0, (3,299,299)).detach().cpu().numpy()\n",
    "    plt.imshow(np.transpose(recon, (1,2,0)))\n",
    "    ax.get_xaxis().set_visible(False)\n",
    "    ax.get_yaxis().set_visible(False)"
   ]
  },
  {
   "cell_type": "code",
   "execution_count": 15,
   "id": "b7b4b801",
   "metadata": {},
   "outputs": [],
   "source": [
    "# need to try CNN autoencoder next"
   ]
  }
 ],
 "metadata": {
  "kernelspec": {
   "display_name": "Python 3 (ipykernel)",
   "language": "python",
   "name": "python3"
  },
  "language_info": {
   "codemirror_mode": {
    "name": "ipython",
    "version": 3
   },
   "file_extension": ".py",
   "mimetype": "text/x-python",
   "name": "python",
   "nbconvert_exporter": "python",
   "pygments_lexer": "ipython3",
   "version": "3.8.12"
  }
 },
 "nbformat": 4,
 "nbformat_minor": 5
}
