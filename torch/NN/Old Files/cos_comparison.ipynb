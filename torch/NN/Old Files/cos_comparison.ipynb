{
 "cells": [
  {
   "cell_type": "code",
   "execution_count": 1,
   "id": "d2a8af34",
   "metadata": {},
   "outputs": [],
   "source": [
    "import torch\n",
    "from torchvision import datasets, transforms\n",
    "import matplotlib.pyplot as plt\n",
    "import numpy as np\n",
    "import sys\n",
    "import os\n",
    "from AutoEncoderCNN import AE_CNN\n",
    "from GridSearch import GridSearch"
   ]
  },
  {
   "cell_type": "code",
   "execution_count": 2,
   "id": "b8473ee2",
   "metadata": {},
   "outputs": [],
   "source": [
    "device = torch.device('cuda' if torch.cuda.is_available() else 'cpu')\n",
    "#device = torch.device('cpu')\n",
    "torch.set_default_device(device)\n",
    "torch.cuda.empty_cache()"
   ]
  },
  {
   "cell_type": "code",
   "execution_count": 3,
   "id": "e916447d",
   "metadata": {},
   "outputs": [],
   "source": [
    "PATH1 = '/groups/francescavitali/eb2/NewsubSubImages4/H&E/A' # /groups/francescavitali/eb2/subImages_slide299/H&E\n",
    "PATH2 = '/groups/francescavitali/eb2/NewsubSubImages4/H&E/S' # /groups/francescavitali/eb2/subImages_slide299/H&E\n",
    "\n",
    "tensor_transform = transforms.ToTensor()\n",
    "\n",
    "dataset_A = datasets.ImageFolder(PATH1, \n",
    "                               transform = tensor_transform) #loads the images\n",
    "\n",
    "dataset_S = datasets.ImageFolder(PATH2, \n",
    "                               transform = tensor_transform) #loads the images\n"
   ]
  },
  {
   "cell_type": "code",
   "execution_count": null,
   "id": "a27aab8f",
   "metadata": {
    "scrolled": true
   },
   "outputs": [
    {
     "name": "stdout",
     "output_type": "stream",
     "text": [
      "0\n",
      "100\n",
      "200\n",
      "300\n",
      "400\n",
      "500\n",
      "600\n",
      "700\n",
      "800\n",
      "900\n",
      "1000\n",
      "1100\n",
      "1200\n"
     ]
    }
   ],
   "source": [
    "# cosine similiarity within the A class\n",
    "cos, count = 0, 0\n",
    "for i in range(len(dataset_S)):\n",
    "    for j in range(len(dataset_S)):\n",
    "        if i == j:\n",
    "            break\n",
    "            \n",
    "        img1 = dataset_S.__getitem__(i)[0].flatten()\n",
    "        img2 = dataset_S.__getitem__(j)[0].flatten()\n",
    "\n",
    "        x = np.dot(img1, img2)/(np.linalg.norm(img1)*np.linalg.norm(img2))\n",
    "        cos += x\n",
    "        count += 1\n",
    "    if i % 100 == 0:\n",
    "        print(i)"
   ]
  },
  {
   "cell_type": "code",
   "execution_count": null,
   "id": "97506852",
   "metadata": {},
   "outputs": [],
   "source": [
    "print(\"finished\")"
   ]
  },
  {
   "cell_type": "code",
   "execution_count": null,
   "id": "97fb9759",
   "metadata": {},
   "outputs": [],
   "source": []
  }
 ],
 "metadata": {
  "kernelspec": {
   "display_name": "Python 3 (ipykernel)",
   "language": "python",
   "name": "python3"
  },
  "language_info": {
   "codemirror_mode": {
    "name": "ipython",
    "version": 3
   },
   "file_extension": ".py",
   "mimetype": "text/x-python",
   "name": "python",
   "nbconvert_exporter": "python",
   "pygments_lexer": "ipython3",
   "version": "3.8.12"
  }
 },
 "nbformat": 4,
 "nbformat_minor": 5
}
