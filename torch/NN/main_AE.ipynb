{
 "cells": [
  {
   "cell_type": "code",
   "execution_count": 1,
   "metadata": {},
   "outputs": [],
   "source": [
    "import torch\n",
    "from torchvision import datasets, transforms\n",
    "import matplotlib.pyplot as plt\n",
    "import numpy as np\n",
    "import sys\n",
    "import os\n",
    "from AutoEncoderCNN import AE_CNN\n",
    "from nn_trainer import ae_train\n",
    "\n",
    "from util.custom_loss.custom_loss import mse_loss, sparsity_loss\n",
    "from util.ImageFolderWithPaths import ImageFolderWithPaths\n",
    "from util.random_patient import random_split"
   ]
  },
  {
   "cell_type": "code",
   "execution_count": 2,
   "metadata": {},
   "outputs": [
    {
     "name": "stdout",
     "output_type": "stream",
     "text": [
      "1\n"
     ]
    },
    {
     "data": {
      "text/plain": [
       "(16790978560, 17059545088)"
      ]
     },
     "execution_count": 2,
     "metadata": {},
     "output_type": "execute_result"
    }
   ],
   "source": [
    "print(torch.cuda.device_count())\n",
    "torch.cuda.empty_cache()\n",
    "torch.cuda.mem_get_info()"
   ]
  },
  {
   "cell_type": "code",
   "execution_count": 3,
   "metadata": {},
   "outputs": [],
   "source": [
    "BATCH_SIZE = 100\n",
    "\n",
    "# setting the correct device to train on\n",
    "device = torch.device('cuda' if torch.cuda.is_available() else 'cpu')\n",
    "torch.set_default_device(device)\n",
    "\n",
    "MAIN_PATH = '/groups/francescavitali/eb2/NewsubSubImages4/H&E'\n",
    "# PATH1 = '/groups/francescavitali/eb2/NewsubSubImages4/H&E/A'\n",
    "# PATH2 = '/groups/francescavitali/eb2/NewsubSubImages4/H&E/S'\n",
    "\n",
    "SPLIT = [55767, 6971, 6971]\n",
    "\n",
    "tensor_transform = transforms.ToTensor()\n",
    "\n",
    "dataset = datasets.ImageFolder(MAIN_PATH, \n",
    "                               transform = tensor_transform) #loads the images\n",
    "\n",
    "train_set, _, _ = torch.utils.data.random_split(dataset,\n",
    "                                                SPLIT,# 80%, 10%, 10%\n",
    "                                                generator=torch.Generator(device=device))\n",
    "\n",
    "train_loader = torch.utils.data.DataLoader(dataset = train_set,\n",
    "                                            batch_size = BATCH_SIZE,\n",
    "                                            shuffle = True,\n",
    "                                            generator=torch.Generator(device=device))"
   ]
  },
  {
   "cell_type": "code",
   "execution_count": 4,
   "metadata": {},
   "outputs": [],
   "source": [
    "encoded_dim = 4096\n",
    "rand_mat_dim = 4096 # try identity matrix"
   ]
  },
  {
   "cell_type": "code",
   "execution_count": 5,
   "metadata": {},
   "outputs": [],
   "source": [
    "AE = AE_CNN(encoded_dim=encoded_dim, rand_mat_dim=rand_mat_dim, rand_mat=False).to(device)"
   ]
  },
  {
   "cell_type": "code",
   "execution_count": 6,
   "metadata": {},
   "outputs": [],
   "source": [
    "AE.rand_mat = torch.eye(rand_mat_dim)"
   ]
  },
  {
   "cell_type": "code",
   "execution_count": 7,
   "metadata": {},
   "outputs": [
    {
     "data": {
      "text/plain": [
       "AE_CNN(\n",
       "  (softmax): Softmax(dim=None)\n",
       "  (encoder): Sequential(\n",
       "    (0): Conv2d(3, 16, kernel_size=(3, 3), stride=(1, 1), padding=(1, 1))\n",
       "    (1): ReLU()\n",
       "    (2): Conv2d(16, 32, kernel_size=(3, 3), stride=(1, 1), padding=(1, 1))\n",
       "    (3): ReLU()\n",
       "    (4): AvgPool2d(kernel_size=2, stride=2, padding=1)\n",
       "    (5): Conv2d(32, 64, kernel_size=(3, 3), stride=(1, 1), padding=(1, 1))\n",
       "    (6): ReLU()\n",
       "    (7): AvgPool2d(kernel_size=2, stride=2, padding=1)\n",
       "    (8): Conv2d(64, 128, kernel_size=(3, 3), stride=(1, 1), padding=(1, 1))\n",
       "    (9): ReLU()\n",
       "    (10): AvgPool2d(kernel_size=2, stride=2, padding=1)\n",
       "    (11): Conv2d(128, 320, kernel_size=(3, 3), stride=(1, 1), padding=(1, 1))\n",
       "    (12): ReLU()\n",
       "    (13): Conv2d(320, 240, kernel_size=(3, 3), stride=(1, 1), padding=(1, 1))\n",
       "    (14): ReLU()\n",
       "    (15): Conv2d(240, 150, kernel_size=(3, 3), stride=(1, 1), padding=(1, 1))\n",
       "    (16): ReLU()\n",
       "    (17): Conv2d(150, 80, kernel_size=(3, 3), stride=(2, 2), padding=(1, 1))\n",
       "    (18): ReLU()\n",
       "    (19): Conv2d(80, 40, kernel_size=(3, 3), stride=(1, 1), padding=(1, 1))\n",
       "    (20): ReLU()\n",
       "    (21): Conv2d(40, 15, kernel_size=(3, 3), stride=(1, 1), padding=(1, 1))\n",
       "    (22): ReLU()\n",
       "    (23): Flatten(start_dim=1, end_dim=-1)\n",
       "    (24): Linear(in_features=6000, out_features=4096, bias=True)\n",
       "  )\n",
       "  (decoder): Sequential(\n",
       "    (0): Linear(in_features=4096, out_features=6000, bias=True)\n",
       "    (1): Unflatten(dim=1, unflattened_size=(15, 20, 20))\n",
       "    (2): ConvTranspose2d(15, 40, kernel_size=(3, 3), stride=(1, 1), padding=(1, 1))\n",
       "    (3): ReLU()\n",
       "    (4): ConvTranspose2d(40, 80, kernel_size=(3, 3), stride=(1, 1), padding=(1, 1))\n",
       "    (5): ReLU()\n",
       "    (6): ConvTranspose2d(80, 150, kernel_size=(3, 3), stride=(2, 2), padding=(1, 1))\n",
       "    (7): ReLU()\n",
       "    (8): ConvTranspose2d(150, 240, kernel_size=(3, 3), stride=(1, 1), padding=(1, 1))\n",
       "    (9): ReLU()\n",
       "    (10): ConvTranspose2d(240, 320, kernel_size=(3, 3), stride=(1, 1), padding=(1, 1))\n",
       "    (11): ReLU()\n",
       "    (12): ConvTranspose2d(320, 128, kernel_size=(3, 3), stride=(1, 1), padding=(1, 1))\n",
       "    (13): ReLU()\n",
       "    (14): ConvTranspose2d(128, 128, kernel_size=(3, 3), stride=(2, 2), padding=(1, 1))\n",
       "    (15): ReLU()\n",
       "    (16): ConvTranspose2d(128, 64, kernel_size=(3, 3), stride=(1, 1), padding=(1, 1))\n",
       "    (17): ReLU()\n",
       "    (18): ConvTranspose2d(64, 64, kernel_size=(3, 3), stride=(2, 2), padding=(2, 2))\n",
       "    (19): ReLU()\n",
       "    (20): ConvTranspose2d(64, 32, kernel_size=(3, 3), stride=(1, 1), padding=(2, 2))\n",
       "    (21): ReLU()\n",
       "    (22): ConvTranspose2d(32, 32, kernel_size=(3, 3), stride=(2, 2), padding=(1, 1))\n",
       "    (23): ReLU()\n",
       "    (24): ConvTranspose2d(32, 16, kernel_size=(3, 3), stride=(1, 1), padding=(1, 1))\n",
       "    (25): ReLU()\n",
       "    (26): ConvTranspose2d(16, 3, kernel_size=(3, 3), stride=(1, 1))\n",
       "    (27): Sigmoid()\n",
       "  )\n",
       ")"
      ]
     },
     "execution_count": 7,
     "metadata": {},
     "output_type": "execute_result"
    }
   ],
   "source": [
    "AE"
   ]
  },
  {
   "cell_type": "code",
   "execution_count": 8,
   "metadata": {
    "scrolled": true
   },
   "outputs": [
    {
     "data": {
      "text/plain": [
       "tensor([[1., 0., 0.,  ..., 0., 0., 0.],\n",
       "        [0., 1., 0.,  ..., 0., 0., 0.],\n",
       "        [0., 0., 1.,  ..., 0., 0., 0.],\n",
       "        ...,\n",
       "        [0., 0., 0.,  ..., 1., 0., 0.],\n",
       "        [0., 0., 0.,  ..., 0., 1., 0.],\n",
       "        [0., 0., 0.,  ..., 0., 0., 1.]], device='cuda:0')"
      ]
     },
     "execution_count": 8,
     "metadata": {},
     "output_type": "execute_result"
    }
   ],
   "source": [
    "AE.rand_mat"
   ]
  },
  {
   "cell_type": "code",
   "execution_count": 9,
   "metadata": {},
   "outputs": [],
   "source": [
    "with open('progress.txt', 'w') as file:\n",
    "    file.write(f\"{AE=}\\n\\nTraining:\\n\")"
   ]
  },
  {
   "cell_type": "code",
   "execution_count": 10,
   "metadata": {},
   "outputs": [],
   "source": [
    "EPOCHS = 20 # about 3.33/hr\n",
    "loss_weights = [1, 0, 0]\n",
    "early_stop_depth = 5\n",
    "verbose = 1\n",
    "\n",
    "LR = [0.1, 0.01, 0.001, 0.0001]\n",
    "WEIGHT_DECAY = [0.98, 0.5, 0.1, 0.01]"
   ]
  },
  {
   "cell_type": "code",
   "execution_count": null,
   "metadata": {},
   "outputs": [
    {
     "name": "stderr",
     "output_type": "stream",
     "text": [
      "/home/u6/njcrutchfield/.local/lib/python3.8/site-packages/torch/nn/functional.py:1881: UserWarning: Implicit dimension choice for softmax has been deprecated. Change the call to include dim=X as an argument.\n",
      "  return handle_torch_function(softmax, (input,), input, dim=dim, _stacklevel=_stacklevel, dtype=dtype)\n",
      "/home/u6/njcrutchfield/.local/lib/python3.8/site-packages/torch/autograd/graph.py:744: UserWarning: Plan failed with a cudnnException: CUDNN_BACKEND_EXECUTION_PLAN_DESCRIPTOR: cudnnFinalize Descriptor Failed cudnn_status: CUDNN_STATUS_NOT_SUPPORTED (Triggered internally at ../aten/src/ATen/native/cudnn/Conv_v8.cpp:919.)\n",
      "  return Variable._execution_engine.run_backward(  # Calls into the C++ engine to run the backward pass\n"
     ]
    },
    {
     "name": "stdout",
     "output_type": "stream",
     "text": [
      "NaN loss: nan\n",
      "NaN loss: nan\n",
      "NaN loss: nan\n",
      "NaN loss: nan\n"
     ]
    }
   ],
   "source": [
    "torch.autograd.set_detect_anomaly(True)\n",
    "min_loss = None\n",
    "d = {}\n",
    "for lr in LR:\n",
    "    AE = AE_CNN(encoded_dim=encoded_dim, rand_mat_dim=rand_mat_dim, rand_mat=False).to(device)\n",
    "    AE.rand_mat = torch.eye(rand_mat_dim)\n",
    "    for wd in WEIGHT_DECAY:  \n",
    "        with open('progress.txt', 'a') as file:\n",
    "            file.write(f\"{lr=} | {wd=}\\n\")\n",
    "        optimizer = torch.optim.Adam(AE.parameters(), lr = lr, weight_decay = wd)\n",
    "        outputs, loss_arr = ae_train(AE, train_loader, optimizer, EPOCHS, loss_weights, early_stop_depth, verbose)\n",
    "        if loss_arr: # ignore nan\n",
    "            d[str(lr) + \"|\"+str(wd)] = loss_arr[-1]\n",
    "            if not min_loss or min_loss > loss_arr[-1]:\n",
    "                min_loss = loss_arr[-1]\n",
    "                torch.save(AE.state_dict(), f'./models/ae_model_gs.pth')\n",
    "                with open('progress.txt', 'a') as file:\n",
    "                    file.write(f\"New AE: {min_loss=}\\n\")\n",
    "                print(f\"New AE: {min_loss=}\\n\")"
   ]
  },
  {
   "cell_type": "code",
   "execution_count": 12,
   "metadata": {},
   "outputs": [
    {
     "name": "stdout",
     "output_type": "stream",
     "text": [
      "done\n"
     ]
    }
   ],
   "source": [
    "#torch.save(AE.state_dict(), f'./models/ae_model_gs.pth')\n",
    "torch.save(AE.rand_mat, f'./models/ae_model_rand_mat.pth')\n",
    "with open('progress.txt', 'a') as file:\n",
    "    file.write(f\"Saved\\n\\n\")\n",
    "print(\"done\")"
   ]
  },
  {
   "cell_type": "code",
   "execution_count": 13,
   "metadata": {},
   "outputs": [
    {
     "data": {
      "image/png": "[encoded data removed]",
      "text/plain": [
       "<Figure size 432x288 with 1 Axes>"
      ]
     },
     "metadata": {
      "needs_background": "light"
     },
     "output_type": "display_data"
    }
   ],
   "source": [
    "ep = [x+1 for x in range(len(loss_arr))]\n",
    "plt.plot(ep, loss_arr)\n",
    "plt.xticks(ep)\n",
    "plt.show()"
   ]
  },
  {
   "cell_type": "code",
   "execution_count": 14,
   "metadata": {},
   "outputs": [
    {
     "name": "stdout",
     "output_type": "stream",
     "text": [
      "(374472704, 17059545088)\n"
     ]
    }
   ],
   "source": [
    "print(torch.cuda.mem_get_info())\n",
    "torch.cuda.empty_cache()"
   ]
  },
  {
   "cell_type": "code",
   "execution_count": 15,
   "metadata": {},
   "outputs": [],
   "source": [
    "torch.set_default_device('cuda')\n",
    "\n",
    "MAIN_PATH = '/groups/francescavitali/eb2/NewsubSubImages4/H&E'\n",
    "\n",
    "SPLIT = [55767, 6971, 6971]\n",
    "\n",
    "tensor_transform = transforms.ToTensor()\n",
    "\n",
    "dataset = datasets.ImageFolder(MAIN_PATH, \n",
    "                               transform = tensor_transform) #loads the images\n",
    "\n",
    "_, val_set, _ = torch.utils.data.random_split(dataset,\n",
    "                                                   SPLIT,\n",
    "                                                   generator=torch.Generator(device='cuda'))\n",
    "\n",
    "val_loader = torch.utils.data.DataLoader(dataset = val_set,\n",
    "                                    batch_size = 1,\n",
    "                                    shuffle = True,\n",
    "                                    generator=torch.Generator('cuda'))"
   ]
  },
  {
   "cell_type": "code",
   "execution_count": 16,
   "metadata": {},
   "outputs": [],
   "source": [
    "device = torch.device('cuda' if torch.cuda.is_available() else 'cpu')\n",
    "\n",
    "model = AE_CNN(encoded_dim=encoded_dim, rand_mat_dim=rand_mat_dim, rand_mat=False).to(device)\n",
    "model.load_state_dict(torch.load('./models/ae_model_gs.pth'))\n",
    "model.rand_mat = torch.load('./models/ae_model_rand_mat.pth')\n",
    "\n",
    "# setting the encoder and decoder for visualization\n",
    "encoder = model.encoder\n",
    "decoder = model.decoder\n",
    "rand_mat = model.rand_mat"
   ]
  },
  {
   "cell_type": "code",
   "execution_count": null,
   "metadata": {},
   "outputs": [],
   "source": [
    "# input and output arrays\n",
    "auto_encoder_output = []\n",
    "encoded_imgs_arr = []\n",
    "decoded_imgs_arr = []\n",
    "\n",
    "\n",
    "mse_running_total = 0\n",
    "count = 0\n",
    "\n",
    "torch.set_default_device('cuda')\n",
    "\n",
    "for (inp, _) in val_loader:\n",
    "    model.eval()\n",
    "    with torch.no_grad():\n",
    "        inp = inp.to(device)\n",
    "        oup = model(inp)\n",
    "        encoded_imgs = torch.mv(rand_mat, model.softmax(encoder(inp))[0])\n",
    "        encoded_imgs_arr.append(encoded_imgs)\n",
    "        \n",
    "#         decoded_imgs = decoder(encoded_imgs)\n",
    "        mse_running_total += np.square(inp.cpu().numpy() - oup.cpu().numpy()).mean()\n",
    "\n",
    "        \n",
    "        \n",
    "        # decoded_imgs_arr.append((inp, decoded_imgs))\n",
    "        \n",
    "        if count % 100 == 0:\n",
    "            auto_encoder_output.append((inp, model(inp)))\n",
    "        count += 1\n",
    "\n"
   ]
  },
  {
   "cell_type": "code",
   "execution_count": null,
   "metadata": {},
   "outputs": [],
   "source": [
    "mse_running_total/len(val_loader)"
   ]
  },
  {
   "cell_type": "code",
   "execution_count": null,
   "metadata": {},
   "outputs": [],
   "source": [
    "encoded_imgs_arr[0]"
   ]
  },
  {
   "cell_type": "code",
   "execution_count": null,
   "metadata": {},
   "outputs": [],
   "source": [
    "encoded_imgs_arr[1]"
   ]
  },
  {
   "cell_type": "code",
   "execution_count": null,
   "metadata": {},
   "outputs": [],
   "source": [
    "mse_running_total = 0\n",
    "for (img, _) in val_loader:\n",
    "    model.eval()\n",
    "    with torch.no_grad():\n",
    "\n",
    "        inp = img.to(device)\n",
    "        decoded = model(inp)\n",
    "        mse_running_total += np.square(inp.cpu().numpy() - decoded.cpu().numpy()).mean()\n",
    "        break"
   ]
  },
  {
   "cell_type": "code",
   "execution_count": null,
   "metadata": {},
   "outputs": [],
   "source": [
    "cols = 2\n",
    "amt = 2\n",
    "ax = plt.subplot(cols, amt, 1)\n",
    "img = inp.squeeze()\n",
    "img = img.detach().cpu().numpy()\n",
    "plt.imshow(np.transpose(img, (1,2,0))) # changes to rgb\n",
    "ax.get_xaxis().set_visible(False)\n",
    "ax.get_yaxis().set_visible(False)\n",
    "\n",
    "ax = plt.subplot(cols,amt, 2)\n",
    "recon = decoded.squeeze()\n",
    "print(recon.shape)\n",
    "recon = recon.detach().cpu().numpy()\n",
    "plt.imshow(np.transpose(recon, (1,2,0)))\n",
    "ax.get_xaxis().set_visible(False)\n",
    "ax.get_yaxis().set_visible(False)\n",
    "\n",
    "print(mse_running_total)"
   ]
  },
  {
   "cell_type": "code",
   "execution_count": null,
   "metadata": {},
   "outputs": [],
   "source": [
    "amt = 10\n",
    "cols = 10\n",
    "plt.figure(figsize=(20,20))\n",
    "\n",
    "\n",
    "for k in range(amt):\n",
    "    \n",
    "    # input image\n",
    "    ax = plt.subplot(cols, amt, k+1)\n",
    "    img = auto_encoder_output[k][0].squeeze()\n",
    "    img = img.detach().cpu().numpy()\n",
    "    plt.imshow(np.transpose(img, (1,2,0))) # changes to rgb\n",
    "    ax.get_xaxis().set_visible(False)\n",
    "    ax.get_yaxis().set_visible(False)\n",
    "\n",
    "    # recon image\n",
    "    ax = plt.subplot(cols,amt, k+1+amt)\n",
    "    recon = auto_encoder_output[k][1].squeeze()\n",
    "    recon = recon.detach().cpu().numpy()\n",
    "    plt.imshow(np.transpose(recon, (1,2,0)))\n",
    "    ax.get_xaxis().set_visible(False)\n",
    "    ax.get_yaxis().set_visible(False)"
   ]
  },
  {
   "cell_type": "code",
   "execution_count": null,
   "metadata": {},
   "outputs": [],
   "source": [
    "amt = len(outputs)\n",
    "cols = 10\n",
    "plt.figure(figsize=(20,20))\n",
    "\n",
    "\n",
    "for k in range(amt):\n",
    "    \n",
    "    # input image\n",
    "    ax = plt.subplot(cols, amt, k+1)\n",
    "    img = outputs[k][0][0].squeeze()\n",
    "    img = img.detach().cpu().numpy()\n",
    "    plt.imshow(np.transpose(img, (1,2,0))) # changes to rgb\n",
    "    ax.get_xaxis().set_visible(False)\n",
    "    ax.get_yaxis().set_visible(False)\n",
    "\n",
    "    # recon image\n",
    "    ax = plt.subplot(cols,amt, k+1+amt)\n",
    "    recon = outputs[k][1][0].squeeze()\n",
    "    recon = recon.detach().cpu().numpy()\n",
    "    plt.imshow(np.transpose(recon, (1,2,0)))\n",
    "    ax.get_xaxis().set_visible(False)\n",
    "    ax.get_yaxis().set_visible(False)"
   ]
  },
  {
   "cell_type": "code",
   "execution_count": null,
   "metadata": {},
   "outputs": [],
   "source": [
    "outputs[0]"
   ]
  },
  {
   "cell_type": "code",
   "execution_count": null,
   "metadata": {},
   "outputs": [],
   "source": [
    "recon1, recon2 = auto_encoder_output[0][1], auto_encoder_output[1][1]"
   ]
  },
  {
   "cell_type": "code",
   "execution_count": null,
   "metadata": {},
   "outputs": [],
   "source": [
    "recon1 - recon2"
   ]
  },
  {
   "cell_type": "code",
   "execution_count": null,
   "metadata": {},
   "outputs": [],
   "source": []
  }
 ],
 "metadata": {
  "kernelspec": {
   "display_name": "Python 3 (ipykernel)",
   "language": "python",
   "name": "python3"
  },
  "language_info": {
   "codemirror_mode": {
    "name": "ipython",
    "version": 3
   },
   "file_extension": ".py",
   "mimetype": "text/x-python",
   "name": "python",
   "nbconvert_exporter": "python",
   "pygments_lexer": "ipython3",
   "version": "3.8.12"
  }
 },
 "nbformat": 4,
 "nbformat_minor": 1
}
