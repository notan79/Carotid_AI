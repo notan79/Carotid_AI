{
 "cells": [
  {
   "cell_type": "code",
   "execution_count": 1,
   "id": "a1706f63",
   "metadata": {},
   "outputs": [],
   "source": [
    "import os"
   ]
  },
  {
   "cell_type": "code",
   "execution_count": 2,
   "id": "ea6e5b7d",
   "metadata": {},
   "outputs": [],
   "source": [
    "PATH = '/groups/francescavitali/eb2/subImages2/H&E'\n",
    "PATH = '/groups/francescavitali/eb2/subImages_slide299/H&E'\n",
    "PATH = '/groups/francescavitali/eb2/NewsubSubImages4/H&E'"
   ]
  },
  {
   "cell_type": "code",
   "execution_count": 3,
   "id": "0d298daa",
   "metadata": {},
   "outputs": [
    {
     "data": {
      "text/plain": [
       "['S', 'A']"
      ]
     },
     "execution_count": 3,
     "metadata": {},
     "output_type": "execute_result"
    }
   ],
   "source": [
    "os.listdir(PATH)"
   ]
  },
  {
   "cell_type": "code",
   "execution_count": 4,
   "id": "738b9261",
   "metadata": {},
   "outputs": [],
   "source": [
    "import torch\n",
    "from torchvision import datasets"
   ]
  },
  {
   "cell_type": "code",
   "execution_count": 5,
   "id": "46319d74",
   "metadata": {},
   "outputs": [],
   "source": [
    "dataset = datasets.ImageFolder(PATH) # loading the images"
   ]
  },
  {
   "cell_type": "code",
   "execution_count": 6,
   "id": "39e08ddf",
   "metadata": {},
   "outputs": [
    {
     "data": {
      "text/plain": [
       "Dataset ImageFolder\n",
       "    Number of datapoints: 69709\n",
       "    Root location: /groups/francescavitali/eb2/NewsubSubImages4/H&E"
      ]
     },
     "execution_count": 6,
     "metadata": {},
     "output_type": "execute_result"
    }
   ],
   "source": [
    "dataset"
   ]
  },
  {
   "cell_type": "code",
   "execution_count": 7,
   "id": "56d1dacb",
   "metadata": {},
   "outputs": [],
   "source": [
    "dir1 = os.listdir(PATH + '/A')\n",
    "dir2 = os.listdir(PATH + '/S')\n"
   ]
  },
  {
   "cell_type": "code",
   "execution_count": 8,
   "id": "94861a5f",
   "metadata": {},
   "outputs": [
    {
     "name": "stdout",
     "output_type": "stream",
     "text": [
      "212\n"
     ]
    }
   ],
   "source": [
    "count1 = 0\n",
    "for folder in dir1:\n",
    "    count1 += len(os.listdir(PATH + '/A/' +folder))\n",
    "    \n",
    "print(count1)"
   ]
  },
  {
   "cell_type": "code",
   "execution_count": 9,
   "id": "afd21e4f",
   "metadata": {},
   "outputs": [
    {
     "name": "stdout",
     "output_type": "stream",
     "text": [
      "124\n"
     ]
    }
   ],
   "source": [
    "count2 = 0\n",
    "for folder in dir2:\n",
    "    count2 += len(os.listdir(PATH + '/S/' +folder))\n",
    "    \n",
    "print(count2)"
   ]
  },
  {
   "cell_type": "code",
   "execution_count": 12,
   "id": "27f129e4",
   "metadata": {},
   "outputs": [
    {
     "ename": "FileNotFoundError",
     "evalue": "[Errno 2] No such file or directory: '/groups/francescavitali/eb2/NewsubSubImages4/H&E/A/0410'",
     "output_type": "error",
     "traceback": [
      "\u001b[0;31m---------------------------------------------------------------------------\u001b[0m",
      "\u001b[0;31mFileNotFoundError\u001b[0m                         Traceback (most recent call last)",
      "Input \u001b[0;32mIn [12]\u001b[0m, in \u001b[0;36m<module>\u001b[0;34m\u001b[0m\n\u001b[1;32m      2\u001b[0m \u001b[38;5;28;01mfor\u001b[39;00m folder \u001b[38;5;129;01min\u001b[39;00m dir1:\n\u001b[1;32m      3\u001b[0m     \u001b[38;5;28;01mfor\u001b[39;00m folder2 \u001b[38;5;129;01min\u001b[39;00m folder:\n\u001b[0;32m----> 4\u001b[0m         count2 \u001b[38;5;241m+\u001b[39m\u001b[38;5;241m=\u001b[39m \u001b[38;5;28mlen\u001b[39m(\u001b[43mos\u001b[49m\u001b[38;5;241;43m.\u001b[39;49m\u001b[43mlistdir\u001b[49m\u001b[43m(\u001b[49m\u001b[43mPATH\u001b[49m\u001b[43m \u001b[49m\u001b[38;5;241;43m+\u001b[39;49m\u001b[43m \u001b[49m\u001b[38;5;124;43m'\u001b[39;49m\u001b[38;5;124;43m/A/\u001b[39;49m\u001b[38;5;124;43m'\u001b[39;49m\u001b[43m \u001b[49m\u001b[38;5;241;43m+\u001b[39;49m\u001b[43mfolder\u001b[49m\u001b[43m \u001b[49m\u001b[38;5;241;43m+\u001b[39;49m\u001b[43m \u001b[49m\u001b[43mfolder2\u001b[49m\u001b[43m)\u001b[49m)\n\u001b[1;32m      6\u001b[0m \u001b[38;5;28mprint\u001b[39m(count2)\n",
      "\u001b[0;31mFileNotFoundError\u001b[0m: [Errno 2] No such file or directory: '/groups/francescavitali/eb2/NewsubSubImages4/H&E/A/0410'"
     ]
    }
   ],
   "source": [
    "count2 = 0\n",
    "for folder in dir1:\n",
    "    for folder2 in folder:\n",
    "        count2 += len(os.listdir(PATH + '/A/' +folder + folder2))\n",
    "    \n",
    "print(count2)"
   ]
  },
  {
   "cell_type": "code",
   "execution_count": 10,
   "id": "9776950b",
   "metadata": {},
   "outputs": [
    {
     "name": "stdout",
     "output_type": "stream",
     "text": [
      "False\n"
     ]
    }
   ],
   "source": [
    "print(count1 + count2 == len(dataset))"
   ]
  },
  {
   "cell_type": "code",
   "execution_count": 13,
   "id": "f2fee4d9",
   "metadata": {},
   "outputs": [
    {
     "data": {
      "text/plain": [
       "69709"
      ]
     },
     "execution_count": 13,
     "metadata": {},
     "output_type": "execute_result"
    }
   ],
   "source": [
    "len(dataset)"
   ]
  },
  {
   "cell_type": "code",
   "execution_count": 17,
   "id": "c67ff970",
   "metadata": {},
   "outputs": [
    {
     "data": {
      "text/plain": [
       "55767"
      ]
     },
     "execution_count": 17,
     "metadata": {},
     "output_type": "execute_result"
    }
   ],
   "source": [
    "int(len(dataset) * 0.8)"
   ]
  },
  {
   "cell_type": "code",
   "execution_count": 20,
   "id": "3d34de56",
   "metadata": {},
   "outputs": [
    {
     "data": {
      "text/plain": [
       "6971"
      ]
     },
     "execution_count": 20,
     "metadata": {},
     "output_type": "execute_result"
    }
   ],
   "source": [
    "(len(dataset) - int(len(dataset) * 0.8))//2"
   ]
  },
  {
   "cell_type": "code",
   "execution_count": 21,
   "id": "1f3ce076",
   "metadata": {},
   "outputs": [
    {
     "data": {
      "text/plain": [
       "69709"
      ]
     },
     "execution_count": 21,
     "metadata": {},
     "output_type": "execute_result"
    }
   ],
   "source": [
    "6971 * 2 + 55767"
   ]
  },
  {
   "cell_type": "code",
   "execution_count": null,
   "id": "84279394",
   "metadata": {},
   "outputs": [],
   "source": []
  }
 ],
 "metadata": {
  "kernelspec": {
   "display_name": "Python 3 (ipykernel)",
   "language": "python",
   "name": "python3"
  },
  "language_info": {
   "codemirror_mode": {
    "name": "ipython",
    "version": 3
   },
   "file_extension": ".py",
   "mimetype": "text/x-python",
   "name": "python",
   "nbconvert_exporter": "python",
   "pygments_lexer": "ipython3",
   "version": "3.8.12"
  }
 },
 "nbformat": 4,
 "nbformat_minor": 5
}
