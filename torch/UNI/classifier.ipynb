{
 "cells": [
  {
   "cell_type": "code",
   "execution_count": 1,
   "id": "2442815c",
   "metadata": {},
   "outputs": [
    {
     "data": {
      "text/html": [
       "<style>.container { width:80% !important; }</style>"
      ],
      "text/plain": [
       "<IPython.core.display.HTML object>"
      ]
     },
     "metadata": {},
     "output_type": "display_data"
    }
   ],
   "source": [
    "import warnings\n",
    "warnings.filterwarnings(\"ignore\")\n",
    "\n",
    "from IPython.display import display, HTML\n",
    "display(HTML(\"<style>.container { width:80% !important; }</style>\"))"
   ]
  },
  {
   "cell_type": "code",
   "execution_count": 2,
   "id": "5292b7e9",
   "metadata": {},
   "outputs": [],
   "source": [
    "import timm\n",
    "import torch\n",
    "from timm.data import resolve_data_config\n",
    "from timm.data.transforms_factory import create_transform\n",
    "from huggingface_hub import login\n",
    "from uni import get_encoder\n",
    "\n",
    "from torchvision import datasets, transforms\n",
    "from torch.nn.functional import binary_cross_entropy\n",
    "import matplotlib.pyplot as plt\n",
    "import numpy as np\n",
    "import sys\n",
    "import os\n",
    "\n",
    "from Classifier import Classifier\n",
    "device = torch.device('cuda' if torch.cuda.is_available() else 'cpu')"
   ]
  },
  {
   "cell_type": "code",
   "execution_count": 3,
   "id": "5365d013-5ba9-449f-9fe3-a3ce3310c34b",
   "metadata": {},
   "outputs": [],
   "source": [
    "# setting the correct device to train on\n",
    "torch.set_default_device(device)"
   ]
  },
  {
   "cell_type": "code",
   "execution_count": 4,
   "id": "d7e254b4",
   "metadata": {},
   "outputs": [],
   "source": [
    "encoder, transform = get_encoder(enc_name='uni2-h', device=device)"
   ]
  },
  {
   "cell_type": "code",
   "execution_count": 5,
   "id": "e144e78e",
   "metadata": {},
   "outputs": [],
   "source": [
    "BATCH_SIZE = 12 # change smaller if running out of memory: [12,13) range for 16gb\n",
    "                # [17,19) for 20gb\n",
    "\n",
    "MAIN_PATH = '/groups/francescavitali/eb2/NewsubSubImages4/H&E'\n",
    "\n",
    "# Full dataset\n",
    "dataset = datasets.ImageFolder(MAIN_PATH, transform = transform)"
   ]
  },
  {
   "cell_type": "code",
   "execution_count": 6,
   "id": "5815ce3e",
   "metadata": {},
   "outputs": [],
   "source": [
    "SPLIT = [55767, 6971, 6971] \n",
    "\n",
    "train_set, _, _ = torch.utils.data.random_split(dataset,\n",
    "                                                SPLIT,      # 80%, 10%, 10%\n",
    "                                                generator=torch.Generator(device=device))\n",
    "\n",
    "train_loader = torch.utils.data.DataLoader(dataset = train_set,\n",
    "                                            batch_size = BATCH_SIZE,\n",
    "                                            shuffle = True,\n",
    "                                            generator=torch.Generator(device=device))"
   ]
  },
  {
   "cell_type": "code",
   "execution_count": 7,
   "id": "c4656ae2",
   "metadata": {},
   "outputs": [
    {
     "data": {
      "text/plain": [
       "(Adam (\n",
       " Parameter Group 0\n",
       "     amsgrad: False\n",
       "     betas: (0.9, 0.999)\n",
       "     capturable: False\n",
       "     differentiable: False\n",
       "     eps: 1e-08\n",
       "     foreach: None\n",
       "     fused: None\n",
       "     initial_lr: 1e-07\n",
       "     lr: 1e-07\n",
       "     maximize: False\n",
       "     weight_decay: 0\n",
       " ),\n",
       " 0.3)"
      ]
     },
     "execution_count": 7,
     "metadata": {},
     "output_type": "execute_result"
    }
   ],
   "source": [
    "# Create the classifier\n",
    "class_model = Classifier().to(device)\n",
    "\n",
    "# Hyper paramaters\n",
    "EPOCHS = 10\n",
    "verbose = 1\n",
    "LR = 1e-7\n",
    "gamma = 0.3 # new_lr = lr * gamma, 0.75 much too big\n",
    "\n",
    "optimizer = torch.optim.Adam([{'params': class_model.parameters(),'lr': LR}])\n",
    "scheduler = torch.optim.lr_scheduler.ExponentialLR(optimizer, gamma=gamma)\n",
    "\n",
    "optimizer, scheduler.gamma"
   ]
  },
  {
   "cell_type": "code",
   "execution_count": null,
   "id": "61126eac",
   "metadata": {},
   "outputs": [
    {
     "name": "stdout",
     "output_type": "stream",
     "text": [
      "0\n"
     ]
    }
   ],
   "source": [
    "with open('progress.txt', 'w') as file:\n",
    "    file.write(f\"{class_model=}\\n\\nTraining:\\n\")\n",
    "\n",
    "torch.autograd.set_detect_anomaly(True)\n",
    "\n",
    "class_model.train()\n",
    "loss_arr = []\n",
    "\n",
    "for epoch in range(EPOCHS):\n",
    "    count = 0\n",
    "    for img, label in train_loader: \n",
    "        optimizer.zero_grad()\n",
    "\n",
    "        img = img.to(device)\n",
    "        label = label.to(device)\n",
    "        \n",
    "        features = encoder(img)\n",
    "        \n",
    "        pred = class_model(features)\n",
    "        \n",
    "        loss = binary_cross_entropy(pred, label.unsqueeze(dim=1).to(torch.float32))\n",
    "        loss.backward()\n",
    "        optimizer.step()\n",
    "        if count % 1000 == 0 or count == len(train_loader) - 1:\n",
    "            print(count*BATCH_SIZE)\n",
    "        count += 1\n",
    "\n",
    "    scheduler.step()\n",
    "    \n",
    "    loss_arr.append(loss.item())\n",
    "    text = f'\\nEpoch: {epoch + 1} | Loss: {loss.item():.4f}'\n",
    "    print(text, end='\\n'*2)\n",
    "    with open('progress.txt', 'a') as file:\n",
    "        file.write(f\"{text}\\n\\n\")\n",
    "        \n",
    "        \n",
    "print('Finished Training')"
   ]
  },
  {
   "cell_type": "code",
   "execution_count": null,
   "id": "6b39e93f",
   "metadata": {},
   "outputs": [],
   "source": [
    "torch.save(class_model, f'./models/class_model.pth')"
   ]
  },
  {
   "cell_type": "code",
   "execution_count": null,
   "id": "dc6a3fbb",
   "metadata": {},
   "outputs": [],
   "source": [
    "ep = [x+1 for x in range(len(loss_arr))]\n",
    "plt.plot(ep, loss_arr)\n",
    "plt.xticks(ep)\n",
    "plt.xlabel(\"Epochs\")\n",
    "plt.ylabel(\"Loss\")\n",
    "plt.show()"
   ]
  },
  {
   "cell_type": "code",
   "execution_count": null,
   "id": "2f2cf747",
   "metadata": {},
   "outputs": [],
   "source": []
  }
 ],
 "metadata": {
  "kernelspec": {
   "display_name": "Python 3 (ipykernel)",
   "language": "python",
   "name": "python3"
  },
  "language_info": {
   "codemirror_mode": {
    "name": "ipython",
    "version": 3
   },
   "file_extension": ".py",
   "mimetype": "text/x-python",
   "name": "python",
   "nbconvert_exporter": "python",
   "pygments_lexer": "ipython3",
   "version": "3.8.12"
  }
 },
 "nbformat": 4,
 "nbformat_minor": 5
}
