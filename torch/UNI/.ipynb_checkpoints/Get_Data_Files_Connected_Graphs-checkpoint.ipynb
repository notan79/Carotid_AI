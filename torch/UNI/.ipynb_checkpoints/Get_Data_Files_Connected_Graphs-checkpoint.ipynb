{
 "cells": [
  {
   "cell_type": "code",
   "execution_count": 1,
   "id": "f9318515",
   "metadata": {},
   "outputs": [],
   "source": [
    "import torch\n",
    "import torch.nn as nn\n",
    "import torch_geometric\n",
    "import torch_geometric.nn as geo_nn\n",
    "from torch_geometric.data import Data"
   ]
  },
  {
   "cell_type": "code",
   "execution_count": 2,
   "id": "5e7b5157",
   "metadata": {},
   "outputs": [],
   "source": [
    "from torchvision import datasets, transforms\n",
    "from torch.nn.functional import binary_cross_entropy\n",
    "import matplotlib.pyplot as plt\n",
    "import numpy as np\n",
    "import sys\n",
    "import os\n",
    "\n",
    "from util.Classifier import Classifier\n",
    "from util.ImageFolderWithPathsEncoder import ImageFolderWithPathsEncoder as IFWPE\n",
    "device = torch.device('cuda' if torch.cuda.is_available() else 'cpu')"
   ]
  },
  {
   "cell_type": "code",
   "execution_count": 3,
   "id": "b51a4b8a",
   "metadata": {},
   "outputs": [],
   "source": [
    "ENCODER_PATH = './models/encoder.pth'\n",
    "TRANSFORM_PATH = './models/transform.pth'\n",
    "encoder = torch.load(ENCODER_PATH).to(device)\n",
    "transform = torch.load(TRANSFORM_PATH)"
   ]
  },
  {
   "cell_type": "code",
   "execution_count": 4,
   "id": "c87b21c1",
   "metadata": {},
   "outputs": [],
   "source": [
    "MAIN_PATH = '/groups/francescavitali/eb2/NewsubSubImages4/H&E'\n",
    "\n",
    "# Full dataset\n",
    "dataset = IFWPE(MAIN_PATH, transform=transform, encoder=encoder, device=device)"
   ]
  },
  {
   "cell_type": "code",
   "execution_count": 5,
   "id": "5deb33f7",
   "metadata": {},
   "outputs": [],
   "source": [
    "loader = torch.utils.data.DataLoader(dataset = dataset,\n",
    "                                            batch_size = 1)"
   ]
  },
  {
   "cell_type": "code",
   "execution_count": null,
   "id": "afbdf61e",
   "metadata": {},
   "outputs": [],
   "source": [
    "all_patients_dict = {}\n",
    "i = 0\n",
    "prev_id = None\n",
    "label = None\n",
    "\n",
    "# For each encoding in the loader\n",
    "for enc, label, _ in loader:\n",
    "    \n",
    "    label = label.to(device)\n",
    "    \n",
    "    # Extract the id\n",
    "    img_id = dataset.get_main_img_id(i)\n",
    "    \n",
    "    # Add to dictionary if its not existing\n",
    "    if not img_id in all_patients_dict:\n",
    "        \n",
    "        # Reset the previous id to a torch tensor\n",
    "        if prev_id:\n",
    "            all_patients_dict[prev_id] = {'enc': torch.cat(all_patients_dict[prev_id]), 'label': label.unsqueeze(1)}\n",
    "        all_patients_dict[img_id] = []\n",
    "    \n",
    "    # Add the encoded img to the relevent dictionary position\n",
    "    all_patients_dict[img_id].append(enc.squeeze(0))\n",
    "    \n",
    "    # Increment\n",
    "    i += 1\n",
    "    \n",
    "    # Break early\n",
    "    if(i == -1):\n",
    "        break\n",
    "        \n",
    "    # Update previous img\n",
    "    prev_id = img_id\n",
    "    \n",
    "all_patients_dict[prev_id] = {'enc': torch.cat(all_patients_dict[prev_id]), 'label': label.unsqueeze(1)}\n",
    "print(f'Amt of imgs: {i}')"
   ]
  },
  {
   "cell_type": "code",
   "execution_count": 36,
   "id": "63f135c8",
   "metadata": {},
   "outputs": [
    {
     "data": {
      "text/plain": [
       "{'01-001_01': {'enc': tensor([[ 0.4025,  0.5792, -0.1650,  ...,  0.7040, -0.0979, -0.4558],\n",
       "          [ 0.5433,  0.4107, -0.1429,  ...,  0.5656, -0.2066,  0.0991],\n",
       "          [ 0.5123,  0.0709, -0.0997,  ...,  0.3540,  0.0235,  0.1223],\n",
       "          ...,\n",
       "          [ 0.3152,  0.4982, -0.5094,  ...,  0.0213, -0.1469,  0.2509],\n",
       "          [-0.0339,  1.1082,  0.2197,  ..., -0.3705,  0.1844, -0.0451],\n",
       "          [ 0.2415,  0.2128,  0.0727,  ..., -0.2213,  0.2826,  0.1858]],\n",
       "         device='cuda:0'),\n",
       "  'label': tensor([[0]], device='cuda:0')}}"
      ]
     },
     "execution_count": 36,
     "metadata": {},
     "output_type": "execute_result"
    }
   ],
   "source": [
    "all_patients_dict"
   ]
  },
  {
   "cell_type": "code",
   "execution_count": 8,
   "id": "4996ea15",
   "metadata": {},
   "outputs": [
    {
     "data": {
      "text/plain": [
       "dict_keys(['01-001_01', '02-001_02', '03-001_06', '04-001_03', '01-002_01', '02-002_03', '03-002_02', '04-002_04', '01-004_04', '02-004_01', '03-004_03', '04-004_02', '01-005_01', '02-005_03', '03-005_04', '04-005_02', '01-006_03', '02-006_01', '03-006_05', '04-006_02', '01-007_04', '02-007_03', '03-007_01', '04-007_02', '01-008_04', '02-008_03', '03-008_05', '04-008_01', '01-009_04', '02-009_05', '03-009_01', '04-009_03', '01-010_02', '02-010_04', '03-010_03', '04-010_05', '01-011_02', '02-011_03', '03-011_01', '04-011_04', '01-012_01', '02-012_02', '03-012_04', '04-012_03', '01-013_02', '02-013_04', '03-013_03', '04-013_05', '01-014_03', '02-014_04', '03-014_01', '04-014_06', '01-015_02', '02-015_01', '03-015_05', '04-015_06', '01-016_07', '02-016_01', '03-016_06', '04-016_05', '01-017_06', '02-017_04', '03-017_02', '04-017_05', '01-018_08', '02-018_04', '03-018_07', '04-018_06', '01-019_07', '02-019_06', '03-019_04', '04-019_01', '01-020_07', '02-020_06', '03-020_09', '04-020_04', '01-021_02', '02-021_03', '03-021_01', '04-021_04', '01-022_02', '02-022_04', '03-022_01', '04-022_06', '01-023_05', '02-023_07', '03-023_06', '04-023_04', '01-024_03', '02-024_04', '03-024_01', '04-024_05', '01-025_02', '02-025_03', '03-025_04', '04-025_01', '01-026_03', '02-026_01', '03-026_05', '04-026_02', '01-027_06', '02-027_01', '03-027_02', '04-027_04', '01-028_02', '02-028_05', '03-028_03', '04-028_04', '01-029_05', '02-029_03', '03-029_02', '04-029_04', '01-030_04', '02-030_02', '03-030_05', '04-030_01', '01-031_06', '02-031_04', '03-031_05', '04-031_01', '01-032_03', '02-032_06', '03-032_05', '04-032_01', '01-033_03', '02-033_02', '03-033_01', '04-033_04', '01-034_04', '02-034_03', '03-034_01', '04-034_05', '01-035_04', '02-035_02', '03-035_01', '04-035_05', '01-036_02', '02-036_01', '03-036_03', '04-036_04', '01-037_01', '02-037_04', '03-037_05', '04-037_03', '01-038_04', '02-038_02', '03-038_05', '04-038_01', '01-039_02', '02-039_03', '03-039_01', '04-039_04', '01-040_03', '02-040_01', '03-040_05', '04-040_02', '01-041_01', '02-041_03', '03-041_02', '04-041_06', '01-042_03', '02-042_04', '03-042_02', '04-042_01', '01-044_01', '02-044_06', '03-044_05', '04-044_04', '01-045_04', '02-045_01', '03-045_03', '04-045_02', '01-046_02', '02-046_03', '03-046_08', '04-046_01', '01-047_01', '02-047_08', '03-047_06', '04-047_07', '01-048_05', '02-048_06', '03-048_02', '04-048_04', '01-049_04', '02-049_01', '03-049_02', '04-049_05', '01-050_04', '02-050_05', '03-050_02', '04-050_03', '01-052_05', '02-052_03', '03-052_06', '04-052_02', '01-053_01', '02-053_04', '03-053_03', '04-053_02', '01-054_03', '02-054_02', '03-054_01', '04-054_04', '01-055_01', '02-055_02', '03-055_04', '04-055_05', '01-057_01', '02-057_04', '03-057_03', '04-057_02', '01-058_03', '02-058_04', '03-058_05', '04-058_01', '01-059_04', '02-059_03', '03-059_02', '04-059_01', '01-060_01', '02-060_05', '03-060_03', '04-060_04', '01-063_04', '02-063_05', '03-063_02', '04-063_03', '01-064_02', '02-064_01', '03-064_03', '04-064_04', '01-065_05', '02-065_02', '03-065_04', '04-065_01', '01-066_06', '02-066_05', '03-066_04', '04-066_01', '01-067_04', '02-067_07', '03-067_01', '04-067_05', '01-068_04', '02-068_01', '03-068_03', '04-068_02', '01-069_03', '02-069_01', '03-069_05', '04-069_02', '01-070_03', '02-070_02', '03-070_01', '04-070_06', '01-071_05', '02-071_01', '03-071_02', '04-071_06', '01-072_01', '02-072_02', '03-072_04', '04-072_03', '01-073_04', '02-073_03', '03-073_06', '04-073_08', '01-074_05', '02-074_06', '03-074_01', '04-074_04', '01-075_04', '02-075_01', '03-075_03', '04-075_05', '01-076_04', '02-076_03', '03-076_01', '04-076_02', '01-077_04', '02-077_03', '03-077_02', '04-077_01', '01-078_03', '02-078_04', '03-078_01', '04-078_02', '01-079_04', '02-079_01', '03-079_06', '04-079_03', '01-080_03', '02-080_04', '03-080_05', '04-080_01', '01-081_03', '02-081_02', '03-081_04', '04-081_05', '01-082_04', '02-082_05', '03-082_06', '04-082_01', '01-083_02', '02-083_03', '03-083_06', '04-083_04', '01-084_02', '02-084_04', '03-084_01', '04-084_06', '01-086_05', '02-086_02', '03-086_04', '04-086_03', '01-087_04', '02-087_03', '03-087_01', '04-087_02', '01-088_03', '02-088_02', '03-088_08', '04-088_04', '01-090_04', '02-090_01', '03-090_03', '04-090_02', '01-091_03', '02-091_04', '03-091_01', '04-091_05', '01-092_04', '02-092_06', '03-092_05', '04-092_03'])"
      ]
     },
     "execution_count": 8,
     "metadata": {},
     "output_type": "execute_result"
    }
   ],
   "source": [
    "all_patients_dict.keys()"
   ]
  },
  {
   "cell_type": "code",
   "execution_count": 22,
   "id": "24455f4b",
   "metadata": {},
   "outputs": [],
   "source": [
    "torch.save(all_patients_dict, './data/img_dict.pth')"
   ]
  },
  {
   "cell_type": "code",
   "execution_count": 3,
   "id": "921d18cf",
   "metadata": {},
   "outputs": [],
   "source": [
    "all_patients_dict = torch.load('./data/img_dict.pth')"
   ]
  },
  {
   "cell_type": "code",
   "execution_count": 4,
   "id": "f277923a",
   "metadata": {},
   "outputs": [
    {
     "name": "stdout",
     "output_type": "stream",
     "text": [
      "done\n"
     ]
    }
   ],
   "source": [
    "all_edges = {}\n",
    "for key, all_imgs in all_patients_dict.items():\n",
    "    edges = []\n",
    "\n",
    "    # Make a K_n graph\n",
    "    for i in range(all_imgs.shape[0]):\n",
    "        for j in range(all_imgs.shape[0]):\n",
    "            if(i != j):\n",
    "                edges.append([i, j])\n",
    "    all_edges[key] = edges\n",
    "print('done')"
   ]
  },
  {
   "cell_type": "code",
   "execution_count": 6,
   "id": "794a9120",
   "metadata": {},
   "outputs": [],
   "source": [
    "torch.save(all_edges, './data/edges.pth')"
   ]
  },
  {
   "cell_type": "code",
   "execution_count": 11,
   "id": "f2a7a571",
   "metadata": {},
   "outputs": [],
   "source": [
    "edge_index = torch.tensor(edges, dtype=torch.long)\n",
    "x = all_imgs\n",
    "\n",
    "data = Data(x=x, edge_index=edge_index.t().contiguous()).to(device)"
   ]
  },
  {
   "cell_type": "code",
   "execution_count": 12,
   "id": "bfc5931b",
   "metadata": {},
   "outputs": [
    {
     "data": {
      "text/plain": [
       "Data(x=[157, 1536], edge_index=[2, 24492])"
      ]
     },
     "execution_count": 12,
     "metadata": {},
     "output_type": "execute_result"
    }
   ],
   "source": [
    "data"
   ]
  },
  {
   "cell_type": "code",
   "execution_count": 13,
   "id": "ab370aaf",
   "metadata": {},
   "outputs": [
    {
     "data": {
      "text/plain": [
       "True"
      ]
     },
     "execution_count": 13,
     "metadata": {},
     "output_type": "execute_result"
    }
   ],
   "source": [
    "data.validate(raise_on_error=True)"
   ]
  },
  {
   "cell_type": "code",
   "execution_count": 14,
   "id": "1b68cefc",
   "metadata": {},
   "outputs": [
    {
     "name": "stdout",
     "output_type": "stream",
     "text": [
      "Data:\n",
      "['edge_index', 'x']\n",
      "tensor([[ 0.5633,  0.1086,  0.9908,  ...,  0.2653, -0.5071,  0.6718],\n",
      "        [ 0.5297, -0.0064, -0.0167,  ...,  0.1558, -0.9215,  0.0542],\n",
      "        [ 0.5419,  0.1699, -0.3524,  ..., -0.2456, -0.6731,  0.1582],\n",
      "        ...,\n",
      "        [ 0.1839,  0.2731,  0.1263,  ..., -0.4063, -0.4424,  0.0840],\n",
      "        [-0.4735, -0.0241,  0.3040,  ..., -0.6489, -0.4606,  0.1246],\n",
      "        [-0.0177,  0.2882,  0.1080,  ..., -0.9171, -0.4901,  0.3214]],\n",
      "       device='cuda:0')\n"
     ]
    }
   ],
   "source": [
    "print('Data:')\n",
    "print(data.keys())\n",
    "print(data['x'])"
   ]
  },
  {
   "cell_type": "code",
   "execution_count": 15,
   "id": "eba12826",
   "metadata": {},
   "outputs": [
    {
     "name": "stdout",
     "output_type": "stream",
     "text": [
      "Data:\n",
      "data.num_nodes=157\n",
      "data.num_edges=24492\n",
      "data.num_node_features=1536\n"
     ]
    }
   ],
   "source": [
    "print('Data:')\n",
    "print(f'{data.num_nodes=}')\n",
    "print(f'{data.num_edges=}')\n",
    "print(f'{data.num_node_features=}')"
   ]
  },
  {
   "cell_type": "code",
   "execution_count": 16,
   "id": "a66d225b",
   "metadata": {},
   "outputs": [],
   "source": [
    "class GCN(torch.nn.Module):\n",
    "    def __init__(self):\n",
    "        super(GCN, self).__init__()\n",
    "        self.conv1 = geo_nn.GCNConv(1536, 200)  # First layer: data.num_node_features input features, some amt of output features y\n",
    "        self.conv2 = geo_nn.GCNConv(200, 2)  # Second layer: y input features, num of classes\n",
    "\n",
    "    def forward(self, data):\n",
    "        # Extract Relevant Info\n",
    "        x, edge_index = data.x, data.edge_index\n",
    "        \n",
    "        # Pass through GCN\n",
    "        x = self.conv1(x, edge_index)\n",
    "        x = torch.relu(x)\n",
    "        x = self.conv2(x, edge_index)\n",
    "        x = torch.relu(x)\n",
    "        x= nn.functional.softmax(x, dim=1)\n",
    "        return x"
   ]
  },
  {
   "cell_type": "code",
   "execution_count": 17,
   "id": "d58bfd7a",
   "metadata": {},
   "outputs": [],
   "source": [
    "model = GCN().to(device)"
   ]
  },
  {
   "cell_type": "code",
   "execution_count": 18,
   "id": "1ad88fc1",
   "metadata": {},
   "outputs": [
    {
     "data": {
      "text/plain": [
       "GCN(\n",
       "  (conv1): GCNConv(1536, 200)\n",
       "  (conv2): GCNConv(200, 2)\n",
       ")"
      ]
     },
     "execution_count": 18,
     "metadata": {},
     "output_type": "execute_result"
    }
   ],
   "source": [
    "model"
   ]
  },
  {
   "cell_type": "code",
   "execution_count": 19,
   "id": "5e0733e9",
   "metadata": {},
   "outputs": [],
   "source": [
    "y = model(data)"
   ]
  },
  {
   "cell_type": "code",
   "execution_count": 20,
   "id": "ace3ae95",
   "metadata": {},
   "outputs": [
    {
     "data": {
      "text/plain": [
       "torch.Size([157, 2])"
      ]
     },
     "execution_count": 20,
     "metadata": {},
     "output_type": "execute_result"
    }
   ],
   "source": [
    "y.shape"
   ]
  }
 ],
 "metadata": {
  "kernelspec": {
   "display_name": "Python 3 (ipykernel)",
   "language": "python",
   "name": "python3"
  },
  "language_info": {
   "codemirror_mode": {
    "name": "ipython",
    "version": 3
   },
   "file_extension": ".py",
   "mimetype": "text/x-python",
   "name": "python",
   "nbconvert_exporter": "python",
   "pygments_lexer": "ipython3",
   "version": "3.8.12"
  }
 },
 "nbformat": 4,
 "nbformat_minor": 5
}
