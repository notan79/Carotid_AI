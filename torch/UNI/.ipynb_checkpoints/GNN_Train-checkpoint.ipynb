{
 "cells": [
  {
   "cell_type": "code",
   "execution_count": 1,
   "id": "77c4661a",
   "metadata": {},
   "outputs": [],
   "source": [
    "import warnings\n",
    "warnings.filterwarnings('ignore')"
   ]
  },
  {
   "cell_type": "code",
   "execution_count": 2,
   "id": "f9318515",
   "metadata": {},
   "outputs": [],
   "source": [
    "import torch\n",
    "import torch.nn as nn\n",
    "import torch_geometric\n",
    "import torch_geometric.nn as geo_nn\n",
    "from torch_geometric.data import Data\n",
    "from torch_geometric.loader import ClusterData, ClusterLoader"
   ]
  },
  {
   "cell_type": "code",
   "execution_count": 3,
   "id": "5e7b5157",
   "metadata": {},
   "outputs": [],
   "source": [
    "from torchvision import datasets, transforms\n",
    "from torch.nn import BCEWithLogitsLoss\n",
    "from sklearn.utils.class_weight import compute_class_weight\n",
    "from sklearn.metrics import confusion_matrix, ConfusionMatrixDisplay, classification_report\n",
    "\n",
    "import matplotlib.pyplot as plt\n",
    "import numpy as np\n",
    "import sys\n",
    "import os\n",
    "import gc\n",
    "import psutil\n",
    "\n",
    "from util.CustomDatasets import PatientDataset\n",
    "from util.GCN_GAT import GCN_GAT\n",
    "\n",
    "device = torch.device('cuda' if torch.cuda.is_available() else 'cpu')\n",
    "torch.set_default_device(device)\n",
    "\n",
    "SEED=79\n",
    "torch.manual_seed(SEED);"
   ]
  },
  {
   "cell_type": "code",
   "execution_count": 4,
   "id": "c87b21c1",
   "metadata": {},
   "outputs": [
    {
     "name": "stdout",
     "output_type": "stream",
     "text": [
      "001_01: total edges: 7400 total nodes: 1047\n",
      "001_02: total edges: 6208 total nodes: 875\n",
      "001_03: total edges: 1756 total nodes: 264\n",
      "001_04: total edges: 1238 total nodes: 187\n",
      "001_05: total edges: 1612 total nodes: 236\n",
      "001_06: total edges: 2320 total nodes: 334\n",
      "002_01: total edges: 9914 total nodes: 1357\n",
      "002_02: total edges: 5800 total nodes: 850\n",
      "002_03: total edges: 5924 total nodes: 879\n",
      "002_04: total edges: 4308 total nodes: 629\n",
      "\n",
      "patient_max='051_01', edges: 23720\n",
      "Mean nodes: 695.802371541502\n",
      "Amt keys: 506\n"
     ]
    }
   ],
   "source": [
    "all_patients_dict = torch.load('./data/adj_graph/img_dict.pth')\n",
    "keys_temp = list(all_patients_dict.keys())[:10]\n",
    "\n",
    "patient_max = None\n",
    "max_edges = 0\n",
    "total_nodes = 0\n",
    "for k in all_patients_dict.keys():\n",
    "    if k in keys_temp:\n",
    "        print(f\"{k}: total edges: {len(all_patients_dict[k]['edge_list'][0])} total nodes: {len(all_patients_dict[k]['enc'])}\")\n",
    "    if(len(all_patients_dict[k]['edge_list'][0]) > max_edges):\n",
    "        max_edges = len(all_patients_dict[k]['edge_list'][0])\n",
    "        patient_max = k\n",
    "    total_nodes += len(all_patients_dict[k]['enc'])\n",
    "print(f'\\n{patient_max=}, edges: {max_edges}')\n",
    "print(f'Mean nodes: {total_nodes / len(all_patients_dict.keys())}')\n",
    "print(f'Amt keys: {len(all_patients_dict.keys())}')"
   ]
  },
  {
   "cell_type": "code",
   "execution_count": 5,
   "id": "1ff1a2da",
   "metadata": {},
   "outputs": [],
   "source": [
    "SPLIT = [406, 50, 50] \n",
    "dataset = PatientDataset(all_patients_dict)\n",
    "\n",
    "train_set, val_set, _ = torch.utils.data.random_split(dataset,\n",
    "                                                SPLIT,      # 80%, 10%, 10%\n",
    "                                                generator=torch.Generator(device=device))\n",
    "\n",
    "\n",
    "# batch_size MUST BE 1\n",
    "train_loader = torch.utils.data.DataLoader(train_set, batch_size=1, shuffle=True, generator=torch.Generator(device))"
   ]
  },
  {
   "cell_type": "code",
   "execution_count": 6,
   "id": "7e31239e",
   "metadata": {},
   "outputs": [],
   "source": [
    "model = GCN_GAT(heads=4).to(device)"
   ]
  },
  {
   "cell_type": "code",
   "execution_count": 7,
   "id": "673d7696",
   "metadata": {},
   "outputs": [],
   "source": [
    "all_labels = [] # list of all labels s.t. x_i in {0,1}\n",
    "for _, v in all_patients_dict.items():\n",
    "    all_labels.append(v['label'].item())"
   ]
  },
  {
   "cell_type": "code",
   "execution_count": 8,
   "id": "32e06e7c",
   "metadata": {},
   "outputs": [],
   "source": [
    "# Get the class weighting\n",
    "class_weight = compute_class_weight(class_weight='balanced', classes=np.unique(all_labels), y=all_labels)\n",
    "\n",
    "loss_fn = BCEWithLogitsLoss(pos_weight=torch.tensor(class_weight[1]))"
   ]
  },
  {
   "cell_type": "code",
   "execution_count": 9,
   "id": "4e7a38d6",
   "metadata": {},
   "outputs": [],
   "source": [
    "def write_out(s: str, to_print=True, path='progress.txt'):\n",
    "    if to_print:\n",
    "        print(s)\n",
    "    with open(path, 'a') as file:\n",
    "        file.write(s + '\\n')\n",
    "\n",
    "with open('progress.txt', 'w') as file:\n",
    "    file.write('Starting training: \\n\\n')\n",
    "with open('loss.txt', 'w') as file:\n",
    "    file.write('Starting training: \\n\\n')"
   ]
  },
  {
   "cell_type": "code",
   "execution_count": 10,
   "id": "7edef72f",
   "metadata": {},
   "outputs": [
    {
     "data": {
      "text/plain": [
       "(Adam (\n",
       " Parameter Group 0\n",
       "     amsgrad: False\n",
       "     betas: (0.9, 0.999)\n",
       "     capturable: False\n",
       "     differentiable: False\n",
       "     eps: 1e-08\n",
       "     foreach: None\n",
       "     fused: None\n",
       "     lr: 0.001\n",
       "     maximize: False\n",
       "     weight_decay: 0\n",
       " ),\n",
       " 0.5)"
      ]
     },
     "execution_count": 10,
     "metadata": {},
     "output_type": "execute_result"
    }
   ],
   "source": [
    "# Hyper paramaters\n",
    "EPOCHS = 50\n",
    "LR = 1e-3 \n",
    "\n",
    "optimizer = torch.optim.Adam([{'params': model.parameters(),'lr': LR}])\n",
    "# scheduler = torch.optim.lr_scheduler.ExponentialLR(optimizer, gamma=gamma)\n",
    "scheduler = torch.optim.lr_scheduler.ReduceLROnPlateau(optimizer, mode='min', factor=0.5, patience=5)\n",
    "\n",
    "optimizer, scheduler.factor# scheduler.gamma"
   ]
  },
  {
   "cell_type": "code",
   "execution_count": null,
   "id": "e6f94403",
   "metadata": {
    "scrolled": true
   },
   "outputs": [
    {
     "name": "stdout",
     "output_type": "stream",
     "text": [
      "Starting Training:\n",
      "Epoch: 1 | mean_loss=0.7690330463383586\n",
      "Epoch: 2 | mean_loss=0.7782974191046701\n",
      "Epoch: 3 | mean_loss=0.7782135715185128\n",
      "Epoch: 4 | mean_loss=0.8757604607220354\n",
      "Epoch: 5 | mean_loss=0.7693275875352287\n",
      "Epoch: 6 | mean_loss=0.771853111354001\n",
      "Epoch: 7 | mean_loss=0.7662775647170438\n",
      "Epoch: 8 | mean_loss=0.7688060093102197\n",
      "Epoch: 9 | mean_loss=0.7696845310882394\n",
      "Epoch: 10 | mean_loss=0.7480881408664394\n",
      "Epoch: 11 | mean_loss=0.7371950877711103\n",
      "Epoch: 12 | mean_loss=0.7965305475105205\n",
      "Epoch: 13 | mean_loss=0.7586734943789214\n",
      "Epoch: 14 | mean_loss=0.7196089016833329\n",
      "Epoch: 15 | mean_loss=0.7266182929204015\n",
      "Epoch: 16 | mean_loss=0.7218153671971683\n",
      "Epoch: 17 | mean_loss=0.6950596946066824\n",
      "Epoch: 18 | mean_loss=0.6891755724481761\n",
      "Epoch: 19 | mean_loss=0.690172915828639\n",
      "Epoch: 20 | mean_loss=0.6520003514190026\n",
      "Epoch: 21 | mean_loss=0.6852772728416133\n",
      "Epoch: 22 | mean_loss=0.6777710996825119\n",
      "Epoch: 23 | mean_loss=0.6601174185648927\n"
     ]
    }
   ],
   "source": [
    "print('Starting Training:')\n",
    "\n",
    "loss_arr = []\n",
    "for epoch in range(EPOCHS):\n",
    "    write_out(f'Epoch: {epoch+1}/{EPOCHS}', to_print=False)\n",
    "    COUNT = 0\n",
    "    epoch_loss = 0\n",
    "    for train_batch in train_loader:\n",
    "        COUNT += 1 # For progress check\n",
    "\n",
    "        # Zero the grad\n",
    "        optimizer.zero_grad()\n",
    "\n",
    "        # Get info from the loader\n",
    "        k = train_batch[0][0] # patient id\n",
    "        v = train_batch[1] # dict with 'enc', 'label', 'edge_list'\n",
    "        src, dest = v['edge_list'] # edges for the graph\n",
    "\n",
    "        # Output relevent information\n",
    "        write_out(f\"\\n----------\\nMemory at start of loop (RSS): {psutil.Process().memory_info().rss / 1e6:.2f} MB\", to_print=False)\n",
    "        write_out(f'Patient: {k} ({v[\"label\"].item()}) ({COUNT}/{len(train_loader)})', to_print=False)\n",
    "\n",
    "        # Get embedding and label, format them and edges\n",
    "        node_emb = v['enc'].squeeze(0)\n",
    "        label = v['label'].squeeze(0)\n",
    "        edge_index = torch.tensor([src, dest], dtype=torch.long)\n",
    "\n",
    "        # Create data variable, and validate\n",
    "        data = Data(x=node_emb, edge_index=edge_index.contiguous()).to(device)\n",
    "        data.validate(raise_on_error=True)\n",
    "\n",
    "        logit = model(data)\n",
    "\n",
    "        # Find the loss\n",
    "        loss = loss_fn(logit.view(-1), label.float().view(-1))\n",
    "        epoch_loss += loss.item()\n",
    "\n",
    "        # Update GCN\n",
    "        loss.backward()\n",
    "        optimizer.step()\n",
    "\n",
    "        # Print info\n",
    "        write_out(f'Logits: {logit}\\nLoss: {loss.item()}', to_print=False)\n",
    "        write_out(\"----------\", to_print=False)\n",
    "\n",
    "        # Watch for memory leaks\n",
    "        del train_batch, data, node_emb, label\n",
    "        torch.cuda.empty_cache()\n",
    "        gc.collect()\n",
    "        \n",
    "    \n",
    "    mean_loss = epoch_loss/len(train_loader)\n",
    "    scheduler.step(mean_loss)\n",
    "    \n",
    "    loss_arr.append(mean_loss)\n",
    "    write_out(f'{mean_loss=}', to_print=False)\n",
    "    write_out(f'Epoch: {epoch+1} | {mean_loss=}', path='loss.txt', to_print=True)\n",
    "write_out(f'{loss_arr=}', path='loss.txt', to_print=False)"
   ]
  },
  {
   "cell_type": "code",
   "execution_count": 12,
   "id": "0cdb18d1",
   "metadata": {},
   "outputs": [
    {
     "data": {
      "image/png": "[encoded data removed]",
      "text/plain": [
       "<Figure size 432x288 with 1 Axes>"
      ]
     },
     "metadata": {
      "needs_background": "light"
     },
     "output_type": "display_data"
    }
   ],
   "source": [
    "ep = [x+1 for x in range(len(loss_arr))]\n",
    "plt.plot(ep, loss_arr)\n",
    "plt.xticks(ep)\n",
    "plt.xlabel(\"Epochs\")\n",
    "plt.ylabel(\"Loss\")\n",
    "plt.show()"
   ]
  },
  {
   "cell_type": "code",
   "execution_count": 14,
   "id": "0325567e",
   "metadata": {},
   "outputs": [],
   "source": [
    "test_loader = torch.utils.data.DataLoader(val_set, batch_size=1)\n",
    "pred = []\n",
    "labels = []\n",
    "for test_batch in test_loader:\n",
    "    # Get info from the loader\n",
    "    k = test_batch[0][0] # patient id\n",
    "    v = test_batch[1] # dict with 'enc', 'label', 'edge_list'\n",
    "    src, dest = v['edge_list'] # edges for the graph\n",
    "    \n",
    "    # Get embedding and label, format them and edges\n",
    "    node_emb = v['enc'].squeeze(0)\n",
    "    label = v['label'].squeeze(0)\n",
    "    edge_index = torch.tensor([src, dest], dtype=torch.long)\n",
    "\n",
    "    # Create data variable, and validate\n",
    "    data = Data(x=node_emb, edge_index=edge_index.contiguous()).to(device)\n",
    "    \n",
    "    with torch.no_grad():\n",
    "        logit = model(data)\n",
    "        pred.append((torch.sigmoid(logit) > 0.5).float().item())\n",
    "        labels.append(label.item())"
   ]
  },
  {
   "cell_type": "code",
   "execution_count": 15,
   "id": "906eac48",
   "metadata": {},
   "outputs": [
    {
     "data": {
      "text/plain": [
       "0.64"
      ]
     },
     "execution_count": 15,
     "metadata": {},
     "output_type": "execute_result"
    }
   ],
   "source": [
    "amt_corr = 0\n",
    "for i in range(len(pred)):\n",
    "    if pred[i] == labels[i]:\n",
    "        amt_corr += 1\n",
    "amt_corr / len(pred)"
   ]
  },
  {
   "cell_type": "code",
   "execution_count": 16,
   "id": "3798a495",
   "metadata": {},
   "outputs": [
    {
     "data": {
      "image/png": "[encoded data removed]",
      "text/plain": [
       "<Figure size 432x288 with 2 Axes>"
      ]
     },
     "metadata": {
      "needs_background": "light"
     },
     "output_type": "display_data"
    }
   ],
   "source": [
    "cm = confusion_matrix(labels, pred)\n",
    "disp = ConfusionMatrixDisplay(confusion_matrix=cm, display_labels=[0, 1])\n",
    "disp.plot()\n",
    "plt.show()"
   ]
  },
  {
   "cell_type": "code",
   "execution_count": 17,
   "id": "7c7cdf2d",
   "metadata": {},
   "outputs": [
    {
     "name": "stdout",
     "output_type": "stream",
     "text": [
      "              precision    recall  f1-score   support\n",
      "\n",
      "           0       0.88      0.48      0.62        31\n",
      "           1       0.52      0.89      0.65        19\n",
      "\n",
      "    accuracy                           0.64        50\n",
      "   macro avg       0.70      0.69      0.64        50\n",
      "weighted avg       0.74      0.64      0.64        50\n",
      "\n"
     ]
    }
   ],
   "source": [
    "print(classification_report(labels,pred))"
   ]
  },
  {
   "cell_type": "code",
   "execution_count": 18,
   "id": "949236b9",
   "metadata": {},
   "outputs": [
    {
     "name": "stdout",
     "output_type": "stream",
     "text": [
      "|===========================================================================|\n",
      "|                  PyTorch CUDA memory summary, device ID 0                 |\n",
      "|---------------------------------------------------------------------------|\n",
      "|            CUDA OOMs: 0            |        cudaMalloc retries: 0         |\n",
      "|===========================================================================|\n",
      "|        Metric         | Cur Usage  | Peak Usage | Tot Alloc  | Tot Freed  |\n",
      "|---------------------------------------------------------------------------|\n",
      "| Allocated memory      | 309516 KiB |   2824 MiB |  50623 GiB |  50622 GiB |\n",
      "|       from large pool | 302296 KiB |   2793 MiB |  50041 GiB |  50041 GiB |\n",
      "|       from small pool |   7220 KiB |     40 MiB |    581 GiB |    581 GiB |\n",
      "|---------------------------------------------------------------------------|\n",
      "| Active memory         | 309516 KiB |   2824 MiB |  50623 GiB |  50622 GiB |\n",
      "|       from large pool | 302296 KiB |   2793 MiB |  50041 GiB |  50041 GiB |\n",
      "|       from small pool |   7220 KiB |     40 MiB |    581 GiB |    581 GiB |\n",
      "|---------------------------------------------------------------------------|\n",
      "| Requested memory      | 301443 KiB |   2795 MiB |  50335 GiB |  50335 GiB |\n",
      "|       from large pool | 299710 KiB |   2788 MiB |  49850 GiB |  49850 GiB |\n",
      "|       from small pool |   1733 KiB |      8 MiB |    484 GiB |    484 GiB |\n",
      "|---------------------------------------------------------------------------|\n",
      "| GPU reserved memory   |   2984 MiB |   3736 MiB |  12751 GiB |  12748 GiB |\n",
      "|       from large pool |   2966 MiB |   3700 MiB |  12699 GiB |  12696 GiB |\n",
      "|       from small pool |     18 MiB |     42 MiB |     51 GiB |     51 GiB |\n",
      "|---------------------------------------------------------------------------|\n",
      "| Non-releasable memory |  98036 KiB | 525265 KiB |  22812 GiB |  22812 GiB |\n",
      "|       from large pool |  88872 KiB | 521776 KiB |  22187 GiB |  22186 GiB |\n",
      "|       from small pool |   9164 KiB |  18951 KiB |    625 GiB |    625 GiB |\n",
      "|---------------------------------------------------------------------------|\n",
      "| Allocations           |   11258    |   80130    |  210989 K  |  210977 K  |\n",
      "|       from large pool |      27    |      37    |    1776 K  |    1776 K  |\n",
      "|       from small pool |   11231    |   80104    |  209212 K  |  209200 K  |\n",
      "|---------------------------------------------------------------------------|\n",
      "| Active allocs         |   11258    |   80130    |  210989 K  |  210977 K  |\n",
      "|       from large pool |      27    |      37    |    1776 K  |    1776 K  |\n",
      "|       from small pool |   11231    |   80104    |  209212 K  |  209200 K  |\n",
      "|---------------------------------------------------------------------------|\n",
      "| GPU reserved segments |      36    |      43    |  173918    |  173882    |\n",
      "|       from large pool |      27    |      27    |  147486    |  147459    |\n",
      "|       from small pool |       9    |      21    |   26432    |   26423    |\n",
      "|---------------------------------------------------------------------------|\n",
      "| Non-releasable allocs |      42    |      50    |    3320 K  |    3320 K  |\n",
      "|       from large pool |       9    |      20    |     831 K  |     831 K  |\n",
      "|       from small pool |      33    |      36    |    2489 K  |    2489 K  |\n",
      "|---------------------------------------------------------------------------|\n",
      "| Oversize allocations  |       0    |       0    |       0    |       0    |\n",
      "|---------------------------------------------------------------------------|\n",
      "| Oversize GPU segments |       0    |       0    |       0    |       0    |\n",
      "|===========================================================================|\n",
      "\n"
     ]
    }
   ],
   "source": [
    "print(torch.cuda.memory_summary())"
   ]
  },
  {
   "cell_type": "code",
   "execution_count": null,
   "id": "c16c9bb3",
   "metadata": {},
   "outputs": [],
   "source": []
  }
 ],
 "metadata": {
  "kernelspec": {
   "display_name": "Python 3 (ipykernel)",
   "language": "python",
   "name": "python3"
  },
  "language_info": {
   "codemirror_mode": {
    "name": "ipython",
    "version": 3
   },
   "file_extension": ".py",
   "mimetype": "text/x-python",
   "name": "python",
   "nbconvert_exporter": "python",
   "pygments_lexer": "ipython3",
   "version": "3.8.12"
  }
 },
 "nbformat": 4,
 "nbformat_minor": 5
}
