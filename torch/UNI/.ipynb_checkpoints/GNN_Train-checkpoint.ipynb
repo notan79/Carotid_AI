{
 "cells": [
  {
   "cell_type": "code",
   "execution_count": 1,
   "id": "77c4661a",
   "metadata": {},
   "outputs": [],
   "source": [
    "import warnings\n",
    "warnings.filterwarnings('ignore')"
   ]
  },
  {
   "cell_type": "code",
   "execution_count": 2,
   "id": "f9318515",
   "metadata": {},
   "outputs": [],
   "source": [
    "import torch\n",
    "import torch.nn as nn\n",
    "import torch_geometric\n",
    "import torch_geometric.nn as geo_nn\n",
    "from torch_geometric.data import Data\n",
    "from torch_geometric.loader import ClusterData, ClusterLoader"
   ]
  },
  {
   "cell_type": "code",
   "execution_count": 3,
   "id": "5e7b5157",
   "metadata": {},
   "outputs": [],
   "source": [
    "from torchvision import datasets, transforms\n",
    "from torch.nn import BCEWithLogitsLoss\n",
    "from sklearn.utils.class_weight import compute_class_weight\n",
    "from sklearn import metrics\n",
    "\n",
    "import matplotlib.pyplot as plt\n",
    "import numpy as np\n",
    "import sys\n",
    "import os\n",
    "import gc\n",
    "import psutil\n",
    "import time\n",
    "\n",
    "from util.CustomDatasets import PatientDataset\n",
    "from util.GCN_GAT import GCN_GAT\n",
    "\n",
    "device = torch.device('cuda' if torch.cuda.is_available() else 'cpu')\n",
    "torch.set_default_device(device)\n",
    "\n",
    "SEED=79\n",
    "torch.manual_seed(SEED);"
   ]
  },
  {
   "cell_type": "code",
   "execution_count": 4,
   "id": "c87b21c1",
   "metadata": {},
   "outputs": [
    {
     "name": "stdout",
     "output_type": "stream",
     "text": [
      "001_01: total edges: 7400 total nodes: 1047\n",
      "001_02: total edges: 6208 total nodes: 875\n",
      "001_03: total edges: 1756 total nodes: 264\n",
      "001_04: total edges: 1238 total nodes: 187\n",
      "001_05: total edges: 1612 total nodes: 236\n",
      "001_06: total edges: 2320 total nodes: 334\n",
      "002_01: total edges: 9914 total nodes: 1357\n",
      "002_02: total edges: 5800 total nodes: 850\n",
      "002_03: total edges: 5924 total nodes: 879\n",
      "002_04: total edges: 4308 total nodes: 629\n",
      "\n",
      "patient_max='051_01', edges: 23720\n",
      "Mean nodes: 695.802371541502\n",
      "Amt keys: 506\n"
     ]
    }
   ],
   "source": [
    "all_patients_dict = torch.load('./data/adj_graph/img_dict.pth')\n",
    "keys_temp = list(all_patients_dict.keys())[:10]\n",
    "\n",
    "patient_max = None\n",
    "max_edges = 0\n",
    "total_nodes = 0\n",
    "for k in all_patients_dict.keys():\n",
    "    if k in keys_temp:\n",
    "        print(f\"{k}: total edges: {len(all_patients_dict[k]['edge_list'][0])} total nodes: {len(all_patients_dict[k]['enc'])}\")\n",
    "    if(len(all_patients_dict[k]['edge_list'][0]) > max_edges):\n",
    "        max_edges = len(all_patients_dict[k]['edge_list'][0])\n",
    "        patient_max = k\n",
    "    total_nodes += len(all_patients_dict[k]['enc'])\n",
    "print(f'\\n{patient_max=}, edges: {max_edges}')\n",
    "print(f'Mean nodes: {total_nodes / len(all_patients_dict.keys())}')\n",
    "print(f'Amt keys: {len(all_patients_dict.keys())}')"
   ]
  },
  {
   "cell_type": "code",
   "execution_count": 5,
   "id": "1ff1a2da",
   "metadata": {},
   "outputs": [],
   "source": [
    "SPLIT = [406, 50, 50] \n",
    "dataset = PatientDataset(all_patients_dict)\n",
    "\n",
    "train_set, val_set, test_set = torch.utils.data.random_split(dataset,\n",
    "                                                SPLIT,      # 80%, 10%, 10%\n",
    "                                                generator=torch.Generator(device=device))\n",
    "\n",
    "\n",
    "# batch_size MUST BE 1\n",
    "train_loader = torch.utils.data.DataLoader(train_set, batch_size=1, shuffle=True, generator=torch.Generator(device))\n",
    "val_loader = torch.utils.data.DataLoader(val_set, batch_size=1)\n",
    "test_loader = torch.utils.data.DataLoader(test_set, batch_size=1)"
   ]
  },
  {
   "cell_type": "code",
   "execution_count": 6,
   "id": "7e31239e",
   "metadata": {},
   "outputs": [],
   "source": [
    "model = GCN_GAT(heads=8).to(device)\n",
    "# model = torch.load(f'./models/gnn_class_models/6_7_2025.pth')"
   ]
  },
  {
   "cell_type": "code",
   "execution_count": 7,
   "id": "673d7696",
   "metadata": {},
   "outputs": [],
   "source": [
    "all_labels = [] # list of all labels s.t. x_i in {0,1}\n",
    "for _, v in all_patients_dict.items():\n",
    "    all_labels.append(v['label'].item())"
   ]
  },
  {
   "cell_type": "code",
   "execution_count": 8,
   "id": "32e06e7c",
   "metadata": {},
   "outputs": [],
   "source": [
    "# Get the class weighting\n",
    "class_weight = compute_class_weight(class_weight='balanced', classes=np.unique(all_labels), y=all_labels)\n",
    "\n",
    "loss_fn = BCEWithLogitsLoss(pos_weight=torch.tensor(class_weight[1]))"
   ]
  },
  {
   "cell_type": "code",
   "execution_count": 9,
   "id": "4e7a38d6",
   "metadata": {},
   "outputs": [],
   "source": [
    "def write_out(s: str, to_print=True, path='progress.txt'):\n",
    "    if to_print:\n",
    "        print(s)\n",
    "    with open(path, 'a') as file:\n",
    "        file.write(s + '\\n')\n",
    "\n",
    "with open('progress.txt', 'w') as file:\n",
    "    file.write('Starting training: \\n\\n')\n",
    "with open('loss.txt', 'w') as file:\n",
    "    file.write('Starting training: \\n\\n')"
   ]
  },
  {
   "cell_type": "code",
   "execution_count": 10,
   "id": "7edef72f",
   "metadata": {},
   "outputs": [
    {
     "data": {
      "text/plain": [
       "(Adam (\n",
       " Parameter Group 0\n",
       "     amsgrad: False\n",
       "     betas: (0.9, 0.999)\n",
       "     capturable: False\n",
       "     differentiable: False\n",
       "     eps: 1e-08\n",
       "     foreach: None\n",
       "     fused: None\n",
       "     lr: 0.001\n",
       "     maximize: False\n",
       "     weight_decay: 0\n",
       " ),\n",
       " 0.5)"
      ]
     },
     "execution_count": 10,
     "metadata": {},
     "output_type": "execute_result"
    }
   ],
   "source": [
    "# Hyper paramaters\n",
    "EPOCHS = 50\n",
    "LR = 1e-3 \n",
    "PATIENCE = 15 # for early stopping\n",
    "\n",
    "optimizer = torch.optim.Adam([{'params': model.parameters(),'lr': LR}])\n",
    "# scheduler = torch.optim.lr_scheduler.ExponentialLR(optimizer, gamma=gamma)\n",
    "scheduler = torch.optim.lr_scheduler.ReduceLROnPlateau(optimizer, mode='min', factor=0.5, patience=5)\n",
    "\n",
    "optimizer, scheduler.factor# scheduler.gamma"
   ]
  },
  {
   "cell_type": "code",
   "execution_count": 46,
   "id": "4cff693f",
   "metadata": {},
   "outputs": [
    {
     "data": {
      "text/plain": [
       "True"
      ]
     },
     "execution_count": 46,
     "metadata": {},
     "output_type": "execute_result"
    }
   ],
   "source": [
    "fname = '6_13_2025'\n",
    "MODEL_PATH = f'./models/gnn_class_models/{fname}.pth'\n",
    "\n",
    "os.path.isfile(MODEL_PATH)"
   ]
  },
  {
   "cell_type": "code",
   "execution_count": 47,
   "id": "e6f94403",
   "metadata": {
    "scrolled": true
   },
   "outputs": [
    {
     "ename": "Exception",
     "evalue": "FILE OF PATH: ./models/gnn_class_models/6_13_2025.pth ALREADY EXISTS",
     "output_type": "error",
     "traceback": [
      "\u001b[0;31m---------------------------------------------------------------------------\u001b[0m",
      "\u001b[0;31mException\u001b[0m                                 Traceback (most recent call last)",
      "Input \u001b[0;32mIn [47]\u001b[0m, in \u001b[0;36m<module>\u001b[0;34m\u001b[0m\n\u001b[1;32m      1\u001b[0m \u001b[38;5;28;01mif\u001b[39;00m os\u001b[38;5;241m.\u001b[39mpath\u001b[38;5;241m.\u001b[39misfile(MODEL_PATH):\n\u001b[0;32m----> 2\u001b[0m     \u001b[38;5;28;01mraise\u001b[39;00m \u001b[38;5;167;01mException\u001b[39;00m(\u001b[38;5;124mf\u001b[39m\u001b[38;5;124m'\u001b[39m\u001b[38;5;124mFILE OF PATH: \u001b[39m\u001b[38;5;132;01m{\u001b[39;00mMODEL_PATH\u001b[38;5;132;01m}\u001b[39;00m\u001b[38;5;124m ALREADY EXISTS\u001b[39m\u001b[38;5;124m'\u001b[39m)\n\u001b[1;32m      4\u001b[0m \u001b[38;5;28mprint\u001b[39m(\u001b[38;5;124m'\u001b[39m\u001b[38;5;124mStarting Training:\u001b[39m\u001b[38;5;124m'\u001b[39m)\n\u001b[1;32m      6\u001b[0m loss_arr \u001b[38;5;241m=\u001b[39m []\n",
      "\u001b[0;31mException\u001b[0m: FILE OF PATH: ./models/gnn_class_models/6_13_2025.pth ALREADY EXISTS"
     ]
    }
   ],
   "source": [
    "# Don't allow overwritting of files!\n",
    "if os.path.isfile(MODEL_PATH):\n",
    "    raise Exception(f'FILE OF PATH: {MODEL_PATH} ALREADY EXISTS')\n",
    "\n",
    "print('Starting Training:')\n",
    "\n",
    "loss_arr = []\n",
    "val_loss_arr = []\n",
    "val_auc = []\n",
    "\n",
    "max_auc = 0\n",
    "bad_auc_epochs = 0\n",
    "\n",
    "for epoch in range(EPOCHS):\n",
    "    write_out(f'Epoch: {epoch+1}/{EPOCHS}', to_print=False)\n",
    "    \n",
    "    if bad_auc_epochs == PATIENCE:\n",
    "        write_out(f'Early stopping on epoch: {epoch} with {max_auc=}')\n",
    "        break\n",
    "    \n",
    "    start = time.time()\n",
    "    COUNT = 0\n",
    "    epoch_loss = 0\n",
    "    model.train()\n",
    "    for train_batch in train_loader:\n",
    "        COUNT += 1 # For progress check\n",
    "\n",
    "        # Zero the grad\n",
    "        optimizer.zero_grad()\n",
    "\n",
    "        # Get info from the loader\n",
    "        k = train_batch[0][0] # patient id\n",
    "        v = train_batch[1] # dict with 'enc', 'label', 'edge_list'\n",
    "        src, dest = v['edge_list'] # edges for the graph\n",
    "\n",
    "        # Output relevent information\n",
    "        write_out(f\"\\n----------\\nMemory at start of loop (RSS): {psutil.Process().memory_info().rss / 1e6:.2f} MB\", to_print=False)\n",
    "        write_out(f'Patient: {k} ({v[\"label\"].item()}) ({COUNT}/{len(train_loader)})', to_print=False)\n",
    "\n",
    "        # Get embedding and label, format them and edges\n",
    "        node_emb = v['enc'].squeeze(0)\n",
    "        label = v['label'].squeeze(0)\n",
    "        edge_index = torch.tensor([src, dest], dtype=torch.long)\n",
    "\n",
    "        # Create data variable, and validate\n",
    "        data = Data(x=node_emb, edge_index=edge_index.contiguous()).to(device)\n",
    "        data.validate(raise_on_error=True)\n",
    "\n",
    "        logit = model(data)\n",
    "\n",
    "        # Find the loss\n",
    "        loss = loss_fn(logit.view(-1), label.float().view(-1))\n",
    "        epoch_loss += loss.item()\n",
    "\n",
    "        # Update GCN\n",
    "        loss.backward()\n",
    "        optimizer.step()\n",
    "\n",
    "        # Print info\n",
    "        write_out(f'Logits: {logit}\\nLoss: {loss.item()}', to_print=False)\n",
    "        write_out(\"----------\", to_print=False)\n",
    "\n",
    "        # Watch for memory leaks\n",
    "        del train_batch, data, node_emb, label\n",
    "        torch.cuda.empty_cache()\n",
    "        gc.collect()\n",
    "        \n",
    "    \n",
    "    mean_loss = epoch_loss/len(train_loader)\n",
    "    scheduler.step(mean_loss)\n",
    "    \n",
    "    loss_arr.append(mean_loss)\n",
    "    \n",
    "    \n",
    "    # Validation\n",
    "    val_loss = 0\n",
    "    pred = []\n",
    "    labels = []\n",
    "    probs = []\n",
    "    \n",
    "    model.eval()\n",
    "    for val_batch in val_loader:\n",
    "        # Get info from the loader\n",
    "        k = val_batch[0][0] # patient id\n",
    "        v = val_batch[1] # dict with 'enc', 'label', 'edge_list'\n",
    "        src, dest = v['edge_list'] # edges for the graph\n",
    "\n",
    "        # Get embedding and label, format them and edges\n",
    "        node_emb = v['enc'].squeeze(0)\n",
    "        label = v['label'].squeeze(0)\n",
    "        edge_index = torch.tensor([src, dest], dtype=torch.long)\n",
    "\n",
    "        # Create data variable, and validate\n",
    "        data = Data(x=node_emb, edge_index=edge_index.contiguous()).to(device)\n",
    "\n",
    "        with torch.no_grad():\n",
    "            logit = model(data)\n",
    "            val_loss += loss_fn(logit.view(-1), label.float().view(-1))\n",
    "            \n",
    "            probs.append(torch.sigmoid(logit).item())\n",
    "            pred.append((torch.sigmoid(logit) > 0.5).float().item())\n",
    "            labels.append(label.item())\n",
    "    \n",
    "    # Validation metrics\n",
    "    val_mean_loss = val_loss.item()/len(val_loader)\n",
    "    val_loss_arr.append(val_mean_loss)\n",
    "    \n",
    "    recall = metrics.recall_score(labels, pred)\n",
    "    accuracy = metrics.accuracy_score(labels, pred)\n",
    "    \n",
    "    fpr, tpr, _ = metrics.roc_curve(labels, probs)\n",
    "    auc = metrics.auc(fpr, tpr)\n",
    "    val_auc.append(auc)\n",
    "    \n",
    "    # Early stopping\n",
    "    if auc >= max_auc:\n",
    "        max_auc = auc\n",
    "        bad_auc_epochs = 0\n",
    "        torch.save(model, MODEL_PATH)\n",
    "    else:\n",
    "        bad_auc_epochs += 1\n",
    "              \n",
    "    # Logging\n",
    "    write_out(f'{mean_loss=}', to_print=False)\n",
    "    write_out(f'Epoch: {epoch+1} ({int((time.time() - start)*100)/100.}s)| Training: {mean_loss=} \\nValidation: {val_mean_loss=}, {recall=}, {auc=}\\n', path='loss.txt', to_print=True)\n",
    "\n",
    "write_out(f'{loss_arr=}\\n{val_loss_arr=}\\n{val_auc=}', path='loss.txt', to_print=False)"
   ]
  },
  {
   "cell_type": "code",
   "execution_count": null,
   "id": "ecd99bb6",
   "metadata": {},
   "outputs": [],
   "source": [
    "torch.save(model, f'./models/gnn_class_models/6_13_2025.pth')"
   ]
  },
  {
   "cell_type": "code",
   "execution_count": 27,
   "id": "0cdb18d1",
   "metadata": {},
   "outputs": [
    {
     "data": {
      "image/png": "[encoded data removed]",
      "text/plain": [
       "<Figure size 432x288 with 1 Axes>"
      ]
     },
     "metadata": {
      "needs_background": "light"
     },
     "output_type": "display_data"
    }
   ],
   "source": [
    "ep = [x+1 for x in range(len(loss_arr))]\n",
    "plt.plot(ep, loss_arr)\n",
    "plt.xticks(ep)\n",
    "plt.xlabel(\"Epochs\")\n",
    "plt.ylabel(\"Training Loss\")\n",
    "plt.show()"
   ]
  },
  {
   "cell_type": "code",
   "execution_count": 28,
   "id": "d65edb8f",
   "metadata": {},
   "outputs": [
    {
     "data": {
      "image/png": "[encoded data removed]",
      "text/plain": [
       "<Figure size 432x288 with 1 Axes>"
      ]
     },
     "metadata": {
      "needs_background": "light"
     },
     "output_type": "display_data"
    }
   ],
   "source": [
    "temp = [x/len(train_loader) for x in val_loss_arr]\n",
    "\n",
    "plt.plot(ep, temp)\n",
    "plt.xticks(ep)\n",
    "plt.xlabel(\"Epochs\")\n",
    "plt.ylabel(\"Validation Loss\")\n",
    "plt.show()"
   ]
  },
  {
   "cell_type": "code",
   "execution_count": 29,
   "id": "9f62b588",
   "metadata": {},
   "outputs": [
    {
     "data": {
      "image/png": "[encoded data removed]",
      "text/plain": [
       "<Figure size 432x288 with 1 Axes>"
      ]
     },
     "metadata": {
      "needs_background": "light"
     },
     "output_type": "display_data"
    }
   ],
   "source": [
    "plt.plot(ep, val_auc)\n",
    "plt.xticks(ep)\n",
    "plt.xlabel(\"Epochs\")\n",
    "plt.ylabel(\"AUC\")\n",
    "plt.show()"
   ]
  },
  {
   "cell_type": "code",
   "execution_count": 43,
   "id": "c7c4f3f7",
   "metadata": {},
   "outputs": [
    {
     "name": "stdout",
     "output_type": "stream",
     "text": [
      "Exitted at index: 33\n"
     ]
    },
    {
     "data": {
      "text/plain": [
       "0.8607809847198642"
      ]
     },
     "execution_count": 43,
     "metadata": {},
     "output_type": "execute_result"
    }
   ],
   "source": [
    "# Patience of 15 seems good for early stopping\n",
    "max_auc = 0\n",
    "count = 0\n",
    "for i, x in enumerate(val_auc):\n",
    "    if count == 15:\n",
    "        print(f'Exitted at index: {i}')\n",
    "        break\n",
    "    \n",
    "    if x >= max_auc:\n",
    "        max_auc = x\n",
    "        count = 0\n",
    "    else:\n",
    "        count += 1\n",
    "max_auc"
   ]
  },
  {
   "cell_type": "code",
   "execution_count": 19,
   "id": "39b55bb7",
   "metadata": {},
   "outputs": [],
   "source": [
    "DONT_DELETE=model"
   ]
  },
  {
   "cell_type": "code",
   "execution_count": 10,
   "id": "45ec41f9",
   "metadata": {},
   "outputs": [],
   "source": [
    "model = torch.load(f'./models/gnn_class_models/6_7_2025.pth')"
   ]
  },
  {
   "cell_type": "code",
   "execution_count": 14,
   "id": "0325567e",
   "metadata": {},
   "outputs": [
    {
     "data": {
      "text/plain": [
       "0.74"
      ]
     },
     "execution_count": 14,
     "metadata": {},
     "output_type": "execute_result"
    }
   ],
   "source": [
    "pred = []\n",
    "labels = []\n",
    "probs = []\n",
    "\n",
    "model.eval()\n",
    "for test_batch in test_loader:\n",
    "    # Get info from the loader\n",
    "    k = test_batch[0][0] # patient id\n",
    "    v = test_batch[1] # dict with 'enc', 'label', 'edge_list'\n",
    "    src, dest = v['edge_list'] # edges for the graph\n",
    "    \n",
    "    # Get embedding and label, format them and edges\n",
    "    node_emb = v['enc'].squeeze(0)\n",
    "    label = v['label'].squeeze(0)\n",
    "    edge_index = torch.tensor([src, dest], dtype=torch.long)\n",
    "\n",
    "    # Create data variable, and validate\n",
    "    data = Data(x=node_emb, edge_index=edge_index.contiguous()).to(device)\n",
    "    \n",
    "    with torch.no_grad():\n",
    "        logit = model(data)\n",
    "        \n",
    "        probs.append(torch.sigmoid(logit).item())\n",
    "        pred.append((torch.sigmoid(logit) > 0.5).float().item())\n",
    "        labels.append(label.item())\n",
    "        \n",
    "metrics.accuracy_score(labels, pred)"
   ]
  },
  {
   "cell_type": "code",
   "execution_count": 15,
   "id": "cfd14621",
   "metadata": {},
   "outputs": [
    {
     "data": {
      "image/png": "[encoded data removed]",
      "text/plain": [
       "<Figure size 432x288 with 2 Axes>"
      ]
     },
     "metadata": {
      "needs_background": "light"
     },
     "output_type": "display_data"
    }
   ],
   "source": [
    "cm = metrics.confusion_matrix(labels, pred)\n",
    "disp = metrics.ConfusionMatrixDisplay(confusion_matrix=cm, display_labels=[0, 1])\n",
    "disp.plot()\n",
    "plt.show()"
   ]
  },
  {
   "cell_type": "code",
   "execution_count": 16,
   "id": "3e7c8d2a",
   "metadata": {},
   "outputs": [
    {
     "name": "stdout",
     "output_type": "stream",
     "text": [
      "              precision    recall  f1-score   support\n",
      "\n",
      "           0       0.82      0.74      0.78        31\n",
      "           1       0.64      0.74      0.68        19\n",
      "\n",
      "    accuracy                           0.74        50\n",
      "   macro avg       0.73      0.74      0.73        50\n",
      "weighted avg       0.75      0.74      0.74        50\n",
      "\n"
     ]
    }
   ],
   "source": [
    "print(metrics.classification_report(labels,pred))"
   ]
  },
  {
   "cell_type": "code",
   "execution_count": 17,
   "id": "571abf0e",
   "metadata": {},
   "outputs": [
    {
     "data": {
      "text/plain": [
       "0.78"
      ]
     },
     "execution_count": 17,
     "metadata": {},
     "output_type": "execute_result"
    }
   ],
   "source": [
    "pred = []\n",
    "labels = []\n",
    "\n",
    "model.eval()\n",
    "for test_batch in val_loader:\n",
    "    # Get info from the loader\n",
    "    k = test_batch[0][0] # patient id\n",
    "    v = test_batch[1] # dict with 'enc', 'label', 'edge_list'\n",
    "    src, dest = v['edge_list'] # edges for the graph\n",
    "    \n",
    "    # Get embedding and label, format them and edges\n",
    "    node_emb = v['enc'].squeeze(0)\n",
    "    label = v['label'].squeeze(0)\n",
    "    edge_index = torch.tensor([src, dest], dtype=torch.long)\n",
    "\n",
    "    # Create data variable, and validate\n",
    "    data = Data(x=node_emb, edge_index=edge_index.contiguous()).to(device)\n",
    "    \n",
    "    with torch.no_grad():\n",
    "        logit = model(data)\n",
    "        pred.append((torch.sigmoid(logit) > 0.5).float().item())\n",
    "        labels.append(label.item())\n",
    "        \n",
    "metrics.accuracy_score(labels, pred)"
   ]
  },
  {
   "cell_type": "code",
   "execution_count": 18,
   "id": "3798a495",
   "metadata": {},
   "outputs": [
    {
     "data": {
      "image/png": "[encoded data removed]",
      "text/plain": [
       "<Figure size 432x288 with 2 Axes>"
      ]
     },
     "metadata": {
      "needs_background": "light"
     },
     "output_type": "display_data"
    }
   ],
   "source": [
    "cm = metrics.confusion_matrix(labels, pred)\n",
    "disp = metrics.ConfusionMatrixDisplay(confusion_matrix=cm, display_labels=[0, 1])\n",
    "disp.plot()\n",
    "plt.show()"
   ]
  },
  {
   "cell_type": "code",
   "execution_count": 19,
   "id": "7c7cdf2d",
   "metadata": {
    "scrolled": true
   },
   "outputs": [
    {
     "name": "stdout",
     "output_type": "stream",
     "text": [
      "              precision    recall  f1-score   support\n",
      "\n",
      "           0       0.92      0.71      0.80        31\n",
      "           1       0.65      0.89      0.76        19\n",
      "\n",
      "    accuracy                           0.78        50\n",
      "   macro avg       0.79      0.80      0.78        50\n",
      "weighted avg       0.82      0.78      0.78        50\n",
      "\n"
     ]
    }
   ],
   "source": [
    "print(metrics.classification_report(labels,pred))"
   ]
  },
  {
   "cell_type": "code",
   "execution_count": 20,
   "id": "33de63e7",
   "metadata": {},
   "outputs": [
    {
     "data": {
      "text/plain": [
       "1.0"
      ]
     },
     "execution_count": 20,
     "metadata": {},
     "output_type": "execute_result"
    }
   ],
   "source": [
    "pred = []\n",
    "labels = []\n",
    "\n",
    "model.eval()\n",
    "for test_batch in train_loader:\n",
    "    # Get info from the loader\n",
    "    k = test_batch[0][0] # patient id\n",
    "    v = test_batch[1] # dict with 'enc', 'label', 'edge_list'\n",
    "    src, dest = v['edge_list'] # edges for the graph\n",
    "    \n",
    "    # Get embedding and label, format them and edges\n",
    "    node_emb = v['enc'].squeeze(0)\n",
    "    label = v['label'].squeeze(0)\n",
    "    edge_index = torch.tensor([src, dest], dtype=torch.long)\n",
    "\n",
    "    # Create data variable, and validate\n",
    "    data = Data(x=node_emb, edge_index=edge_index.contiguous()).to(device)\n",
    "    \n",
    "    with torch.no_grad():\n",
    "        logit = model(data)\n",
    "        pred.append((torch.sigmoid(logit) > 0.5).float().item())\n",
    "        labels.append(label.item())\n",
    "        \n",
    "metrics.accuracy_score(labels, pred)"
   ]
  },
  {
   "cell_type": "code",
   "execution_count": 21,
   "id": "f60695e4",
   "metadata": {},
   "outputs": [
    {
     "data": {
      "image/png": "[encoded data removed]",
      "text/plain": [
       "<Figure size 432x288 with 2 Axes>"
      ]
     },
     "metadata": {
      "needs_background": "light"
     },
     "output_type": "display_data"
    }
   ],
   "source": [
    "cm = metrics.confusion_matrix(labels, pred)\n",
    "disp = metrics.ConfusionMatrixDisplay(confusion_matrix=cm, display_labels=[0, 1])\n",
    "disp.plot()\n",
    "plt.show()"
   ]
  },
  {
   "cell_type": "code",
   "execution_count": 22,
   "id": "a75aa004",
   "metadata": {},
   "outputs": [
    {
     "name": "stdout",
     "output_type": "stream",
     "text": [
      "              precision    recall  f1-score   support\n",
      "\n",
      "           0       1.00      1.00      1.00       249\n",
      "           1       1.00      1.00      1.00       157\n",
      "\n",
      "    accuracy                           1.00       406\n",
      "   macro avg       1.00      1.00      1.00       406\n",
      "weighted avg       1.00      1.00      1.00       406\n",
      "\n"
     ]
    }
   ],
   "source": [
    "print(metrics.classification_report(labels,pred))"
   ]
  }
 ],
 "metadata": {
  "kernelspec": {
   "display_name": "Python 3 (ipykernel)",
   "language": "python",
   "name": "python3"
  },
  "language_info": {
   "codemirror_mode": {
    "name": "ipython",
    "version": 3
   },
   "file_extension": ".py",
   "mimetype": "text/x-python",
   "name": "python",
   "nbconvert_exporter": "python",
   "pygments_lexer": "ipython3",
   "version": "3.8.12"
  }
 },
 "nbformat": 4,
 "nbformat_minor": 5
}
