{
 "cells": [
  {
   "cell_type": "code",
   "execution_count": 1,
   "id": "77c4661a",
   "metadata": {},
   "outputs": [],
   "source": [
    "import warnings\n",
    "warnings.filterwarnings('ignore')"
   ]
  },
  {
   "cell_type": "code",
   "execution_count": 2,
   "id": "f9318515",
   "metadata": {},
   "outputs": [],
   "source": [
    "import torch\n",
    "import torch.nn as nn\n",
    "import torch_geometric\n",
    "import torch_geometric.nn as geo_nn\n",
    "from torch_geometric.data import Data\n",
    "from torch_geometric.loader import ClusterData, ClusterLoader"
   ]
  },
  {
   "cell_type": "code",
   "execution_count": 3,
   "id": "5e7b5157",
   "metadata": {},
   "outputs": [],
   "source": [
    "from torchvision import datasets, transforms\n",
    "from torch.nn import BCEWithLogitsLoss\n",
    "from sklearn.utils.class_weight import compute_class_weight\n",
    "from sklearn import metrics\n",
    "\n",
    "import matplotlib.pyplot as plt\n",
    "import numpy as np\n",
    "import sys\n",
    "import os\n",
    "import gc\n",
    "import psutil\n",
    "import time\n",
    "\n",
    "from util.CustomDatasets import PatientDataset\n",
    "from util.GCN_GAT import GCN_GAT\n",
    "\n",
    "device = torch.device('cuda' if torch.cuda.is_available() else 'cpu')\n",
    "torch.set_default_device(device)\n",
    "\n",
    "SEED=79\n",
    "torch.manual_seed(SEED);"
   ]
  },
  {
   "cell_type": "code",
   "execution_count": 4,
   "id": "c87b21c1",
   "metadata": {},
   "outputs": [
    {
     "name": "stdout",
     "output_type": "stream",
     "text": [
      "001_01: total edges: 7400 total nodes: 1047\n",
      "001_02: total edges: 6208 total nodes: 875\n",
      "001_03: total edges: 1756 total nodes: 264\n",
      "001_04: total edges: 1238 total nodes: 187\n",
      "001_05: total edges: 1612 total nodes: 236\n",
      "001_06: total edges: 2320 total nodes: 334\n",
      "002_01: total edges: 9914 total nodes: 1357\n",
      "002_02: total edges: 5800 total nodes: 850\n",
      "002_03: total edges: 5924 total nodes: 879\n",
      "002_04: total edges: 4308 total nodes: 629\n",
      "\n",
      "patient_max='051_01', edges: 23720\n",
      "Mean nodes: 695.802371541502\n",
      "Amt keys: 506\n"
     ]
    }
   ],
   "source": [
    "all_patients_dict = torch.load('./data/adj_graph/img_dict.pth')\n",
    "keys_temp = list(all_patients_dict.keys())[:10]\n",
    "\n",
    "patient_max = None\n",
    "max_edges = 0\n",
    "total_nodes = 0\n",
    "for k in all_patients_dict.keys():\n",
    "    if k in keys_temp:\n",
    "        print(f\"{k}: total edges: {len(all_patients_dict[k]['edge_list'][0])} total nodes: {len(all_patients_dict[k]['enc'])}\")\n",
    "    if(len(all_patients_dict[k]['edge_list'][0]) > max_edges):\n",
    "        max_edges = len(all_patients_dict[k]['edge_list'][0])\n",
    "        patient_max = k\n",
    "    total_nodes += len(all_patients_dict[k]['enc'])\n",
    "print(f'\\n{patient_max=}, edges: {max_edges}')\n",
    "print(f'Mean nodes: {total_nodes / len(all_patients_dict.keys())}')\n",
    "print(f'Amt keys: {len(all_patients_dict.keys())}')"
   ]
  },
  {
   "cell_type": "code",
   "execution_count": 5,
   "id": "1ff1a2da",
   "metadata": {},
   "outputs": [],
   "source": [
    "SPLIT = [406, 50, 50] \n",
    "dataset = PatientDataset(all_patients_dict)\n",
    "\n",
    "train_set, val_set, test_set = torch.utils.data.random_split(dataset,\n",
    "                                                SPLIT,      # 80%, 10%, 10%\n",
    "                                                generator=torch.Generator(device=device))\n",
    "\n",
    "\n",
    "# batch_size MUST BE 1\n",
    "train_loader = torch.utils.data.DataLoader(train_set, batch_size=1, shuffle=True, generator=torch.Generator(device))\n",
    "val_loader = torch.utils.data.DataLoader(val_set, batch_size=1)\n",
    "test_loader = torch.utils.data.DataLoader(test_set, batch_size=1)"
   ]
  },
  {
   "cell_type": "code",
   "execution_count": 7,
   "id": "45ec41f9",
   "metadata": {},
   "outputs": [],
   "source": [
    "# model = torch.load(MODEL_PATH)\n",
    "model = torch.load(f'./models/gnn_class_models/FINAL_MODELS/6_13_2025-OVERFIT.pth')"
   ]
  },
  {
   "cell_type": "code",
   "execution_count": 8,
   "id": "0325567e",
   "metadata": {},
   "outputs": [
    {
     "data": {
      "text/plain": [
       "0.78"
      ]
     },
     "execution_count": 8,
     "metadata": {},
     "output_type": "execute_result"
    }
   ],
   "source": [
    "pred = []\n",
    "labels = []\n",
    "probs = []\n",
    "\n",
    "high_conf_1 = []\n",
    "high_conf_1_lab = []\n",
    "\n",
    "high_conf_0 = []\n",
    "high_conf_0_lab = []\n",
    "\n",
    "low_conf_1 = []\n",
    "low_conf_1_lab = []\n",
    "\n",
    "low_conf_0 = []\n",
    "low_conf_0_lab = []\n",
    "\n",
    "model.eval()\n",
    "for test_batch in val_loader:\n",
    "    # Get info from the loader\n",
    "    k = test_batch[0][0] # patient id\n",
    "    v = test_batch[1] # dict with 'enc', 'label', 'edge_list'\n",
    "    src, dest = v['edge_list'] # edges for the graph\n",
    "    \n",
    "    # Get embedding and label, format them and edges\n",
    "    node_emb = v['enc'].squeeze(0)\n",
    "    label = v['label'].squeeze(0)\n",
    "    edge_index = torch.tensor([src, dest], dtype=torch.long)\n",
    "\n",
    "    # Create data variable, and validate\n",
    "    data = Data(x=node_emb, edge_index=edge_index.contiguous()).to(device)\n",
    "    \n",
    "    with torch.no_grad():\n",
    "        logit = model(data)\n",
    "        prob = torch.sigmoid(logit)\n",
    "        \n",
    "        # 'Confidence levels'\n",
    "        if prob > 0.75:\n",
    "            high_conf_1.append(1)\n",
    "            high_conf_1_lab.append(label.item())\n",
    "        elif prob > 0.5:\n",
    "            low_conf_1.append(1)\n",
    "            low_conf_1_lab.append(label.item())\n",
    "        elif prob > 0.25:\n",
    "            low_conf_0.append(0)\n",
    "            low_conf_0_lab.append(label.item())\n",
    "        else:\n",
    "            high_conf_0.append(0)\n",
    "            high_conf_0_lab.append(label.item())\n",
    "        \n",
    "        probs.append(prob.item())\n",
    "        pred.append((prob > 0.5).float().item())\n",
    "        labels.append(label.item())\n",
    "        \n",
    "metrics.accuracy_score(labels, pred)"
   ]
  },
  {
   "cell_type": "code",
   "execution_count": 9,
   "id": "cfd14621",
   "metadata": {},
   "outputs": [
    {
     "data": {
      "image/png": "[encoded data removed]",
      "text/plain": [
       "<Figure size 432x288 with 2 Axes>"
      ]
     },
     "metadata": {
      "needs_background": "light"
     },
     "output_type": "display_data"
    }
   ],
   "source": [
    "cm = metrics.confusion_matrix(labels, pred)\n",
    "disp = metrics.ConfusionMatrixDisplay(confusion_matrix=cm, display_labels=[0, 1])\n",
    "disp.plot()\n",
    "plt.show()"
   ]
  },
  {
   "cell_type": "code",
   "execution_count": 11,
   "id": "571abf0e",
   "metadata": {},
   "outputs": [
    {
     "data": {
      "text/plain": [
       "0.78"
      ]
     },
     "execution_count": 11,
     "metadata": {},
     "output_type": "execute_result"
    }
   ],
   "source": [
    "pred = []\n",
    "labels = []\n",
    "\n",
    "model.eval()\n",
    "for test_batch in val_loader:\n",
    "    # Get info from the loader\n",
    "    k = test_batch[0][0] # patient id\n",
    "    v = test_batch[1] # dict with 'enc', 'label', 'edge_list'\n",
    "    src, dest = v['edge_list'] # edges for the graph\n",
    "    \n",
    "    # Get embedding and label, format them and edges\n",
    "    node_emb = v['enc'].squeeze(0)\n",
    "    label = v['label'].squeeze(0)\n",
    "    edge_index = torch.tensor([src, dest], dtype=torch.long)\n",
    "\n",
    "    # Create data variable, and validate\n",
    "    data = Data(x=node_emb, edge_index=edge_index.contiguous()).to(device)\n",
    "    \n",
    "    with torch.no_grad():\n",
    "        logit = model(data)\n",
    "        pred.append((torch.sigmoid(logit) > 0.5).float().item())\n",
    "        labels.append(label.item())\n",
    "        \n",
    "metrics.accuracy_score(labels, pred)"
   ]
  },
  {
   "cell_type": "code",
   "execution_count": 12,
   "id": "3798a495",
   "metadata": {},
   "outputs": [
    {
     "data": {
      "image/png": "[encoded data removed]",
      "text/plain": [
       "<Figure size 432x288 with 2 Axes>"
      ]
     },
     "metadata": {
      "needs_background": "light"
     },
     "output_type": "display_data"
    }
   ],
   "source": [
    "cm = metrics.confusion_matrix(labels, pred)\n",
    "disp = metrics.ConfusionMatrixDisplay(confusion_matrix=cm, display_labels=[0, 1])\n",
    "disp.plot()\n",
    "plt.show()"
   ]
  },
  {
   "cell_type": "code",
   "execution_count": 13,
   "id": "7c7cdf2d",
   "metadata": {
    "scrolled": true
   },
   "outputs": [
    {
     "name": "stdout",
     "output_type": "stream",
     "text": [
      "              precision    recall  f1-score   support\n",
      "\n",
      "           0       0.92      0.71      0.80        31\n",
      "           1       0.65      0.89      0.76        19\n",
      "\n",
      "    accuracy                           0.78        50\n",
      "   macro avg       0.79      0.80      0.78        50\n",
      "weighted avg       0.82      0.78      0.78        50\n",
      "\n"
     ]
    }
   ],
   "source": [
    "print(metrics.classification_report(labels,pred))"
   ]
  },
  {
   "cell_type": "code",
   "execution_count": 14,
   "id": "33de63e7",
   "metadata": {},
   "outputs": [
    {
     "data": {
      "text/plain": [
       "1.0"
      ]
     },
     "execution_count": 14,
     "metadata": {},
     "output_type": "execute_result"
    }
   ],
   "source": [
    "pred = []\n",
    "labels = []\n",
    "\n",
    "model.eval()\n",
    "for test_batch in train_loader:\n",
    "    # Get info from the loader\n",
    "    k = test_batch[0][0] # patient id\n",
    "    v = test_batch[1] # dict with 'enc', 'label', 'edge_list'\n",
    "    src, dest = v['edge_list'] # edges for the graph\n",
    "    \n",
    "    # Get embedding and label, format them and edges\n",
    "    node_emb = v['enc'].squeeze(0)\n",
    "    label = v['label'].squeeze(0)\n",
    "    edge_index = torch.tensor([src, dest], dtype=torch.long)\n",
    "\n",
    "    # Create data variable, and validate\n",
    "    data = Data(x=node_emb, edge_index=edge_index.contiguous()).to(device)\n",
    "    \n",
    "    with torch.no_grad():\n",
    "        logit = model(data)\n",
    "        pred.append((torch.sigmoid(logit) > 0.5).float().item())\n",
    "        labels.append(label.item())\n",
    "        \n",
    "metrics.accuracy_score(labels, pred)"
   ]
  },
  {
   "cell_type": "code",
   "execution_count": 15,
   "id": "f60695e4",
   "metadata": {},
   "outputs": [
    {
     "data": {
      "image/png": "[encoded data removed]",
      "text/plain": [
       "<Figure size 432x288 with 2 Axes>"
      ]
     },
     "metadata": {
      "needs_background": "light"
     },
     "output_type": "display_data"
    }
   ],
   "source": [
    "cm = metrics.confusion_matrix(labels, pred)\n",
    "disp = metrics.ConfusionMatrixDisplay(confusion_matrix=cm, display_labels=[0, 1])\n",
    "disp.plot()\n",
    "plt.show()"
   ]
  },
  {
   "cell_type": "code",
   "execution_count": 16,
   "id": "a75aa004",
   "metadata": {},
   "outputs": [
    {
     "name": "stdout",
     "output_type": "stream",
     "text": [
      "              precision    recall  f1-score   support\n",
      "\n",
      "           0       1.00      1.00      1.00       249\n",
      "           1       1.00      1.00      1.00       157\n",
      "\n",
      "    accuracy                           1.00       406\n",
      "   macro avg       1.00      1.00      1.00       406\n",
      "weighted avg       1.00      1.00      1.00       406\n",
      "\n"
     ]
    }
   ],
   "source": [
    "print(metrics.classification_report(labels,pred))"
   ]
  }
 ],
 "metadata": {
  "kernelspec": {
   "display_name": "Python 3 (ipykernel)",
   "language": "python",
   "name": "python3"
  },
  "language_info": {
   "codemirror_mode": {
    "name": "ipython",
    "version": 3
   },
   "file_extension": ".py",
   "mimetype": "text/x-python",
   "name": "python",
   "nbconvert_exporter": "python",
   "pygments_lexer": "ipython3",
   "version": "3.8.12"
  }
 },
 "nbformat": 4,
 "nbformat_minor": 5
}
