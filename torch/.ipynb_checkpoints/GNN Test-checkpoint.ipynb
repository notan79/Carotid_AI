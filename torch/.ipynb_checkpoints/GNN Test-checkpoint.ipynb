{
 "cells": [
  {
   "cell_type": "code",
   "execution_count": 1,
   "id": "f9318515",
   "metadata": {},
   "outputs": [],
   "source": [
    "import torch\n",
    "import torch.nn as nn\n",
    "import torch_geometric\n",
    "import torch_geometric.nn as geo_nn\n",
    "from torch_geometric.data import Data"
   ]
  },
  {
   "cell_type": "code",
   "execution_count": 13,
   "id": "f2a7a571",
   "metadata": {},
   "outputs": [],
   "source": [
    "edge_index1 = torch.tensor([[0, 1],\n",
    "                           [1, 0],\n",
    "                           [1, 2],\n",
    "                           [2, 1]], dtype=torch.long)\n",
    "x1 = torch.tensor([[-1], [-2], [0]], dtype=torch.float)\n",
    "\n",
    "data1 = Data(x=x1, edge_index=edge_index1.t().contiguous()).to('cuda')"
   ]
  },
  {
   "cell_type": "code",
   "execution_count": 14,
   "id": "32d4d2f8",
   "metadata": {},
   "outputs": [],
   "source": [
    "edge_index2 = torch.tensor([[0, 1],\n",
    "                           [1, 0],\n",
    "                           [1, 2],\n",
    "                           [2, 1],\n",
    "                           [3, 4],\n",
    "                           [4, 3],\n",
    "                           [0, 3],\n",
    "                           [3, 0]], dtype=torch.long)\n",
    "x2 = torch.tensor([[0], [1], [2], [3], [4]], dtype=torch.float)\n",
    "\n",
    "data2 = Data(x=x2, edge_index=edge_index2.t().contiguous()).to('cuda')"
   ]
  },
  {
   "cell_type": "code",
   "execution_count": 15,
   "id": "bfc5931b",
   "metadata": {},
   "outputs": [
    {
     "data": {
      "text/plain": [
       "(Data(x=[3, 1], edge_index=[2, 4]), Data(x=[5, 1], edge_index=[2, 8]))"
      ]
     },
     "execution_count": 15,
     "metadata": {},
     "output_type": "execute_result"
    }
   ],
   "source": [
    "data1, data2"
   ]
  },
  {
   "cell_type": "code",
   "execution_count": 16,
   "id": "ab370aaf",
   "metadata": {},
   "outputs": [
    {
     "data": {
      "text/plain": [
       "(True, True)"
      ]
     },
     "execution_count": 16,
     "metadata": {},
     "output_type": "execute_result"
    }
   ],
   "source": [
    "data1.validate(raise_on_error=True), data2.validate(raise_on_error=True)"
   ]
  },
  {
   "cell_type": "code",
   "execution_count": 17,
   "id": "1b68cefc",
   "metadata": {},
   "outputs": [
    {
     "name": "stdout",
     "output_type": "stream",
     "text": [
      "Data1:\n",
      "['edge_index', 'x']\n",
      "tensor([[-1.],\n",
      "        [-2.],\n",
      "        [ 0.]], device='cuda:0')\n",
      "\n",
      "\n",
      "\n",
      "Data2:\n",
      "['edge_index', 'x']\n",
      "tensor([[0.],\n",
      "        [1.],\n",
      "        [2.],\n",
      "        [3.],\n",
      "        [4.]], device='cuda:0')\n"
     ]
    }
   ],
   "source": [
    "print('Data1:')\n",
    "print(data1.keys())\n",
    "print(data1['x'])\n",
    "print('\\n\\n\\nData2:')\n",
    "print(data2.keys())\n",
    "print(data2['x'])"
   ]
  },
  {
   "cell_type": "code",
   "execution_count": 18,
   "id": "eba12826",
   "metadata": {},
   "outputs": [
    {
     "name": "stdout",
     "output_type": "stream",
     "text": [
      "Data1:\n",
      "data1.num_nodes=3\n",
      "data1.num_edges=4\n",
      "data1.num_node_features=1\n",
      "\n",
      "\n",
      "\n",
      "Data2:\n",
      "data2.num_nodes=5\n",
      "data2.num_edges=8\n",
      "data2.num_node_features=1\n"
     ]
    }
   ],
   "source": [
    "print('Data1:')\n",
    "print(f'{data1.num_nodes=}')\n",
    "print(f'{data1.num_edges=}')\n",
    "print(f'{data1.num_node_features=}')\n",
    "print('\\n\\n\\nData2:')\n",
    "print(f'{data2.num_nodes=}')\n",
    "print(f'{data2.num_edges=}')\n",
    "print(f'{data2.num_node_features=}')"
   ]
  },
  {
   "cell_type": "code",
   "execution_count": 19,
   "id": "a66d225b",
   "metadata": {},
   "outputs": [],
   "source": [
    "class GCN(torch.nn.Module):\n",
    "    def __init__(self):\n",
    "        super(GCN, self).__init__()\n",
    "        self.conv1 = geo_nn.GCNConv(1, 3)  # First layer: data.num_node_features input features, some amt of output features y\n",
    "        self.conv2 = geo_nn.GCNConv(3, 2)  # Second layer: y input features, num of classes\n",
    "\n",
    "    def forward(self, data):\n",
    "        x, edge_index = data.x, data.edge_index\n",
    "        print(x)\n",
    "        print(edge_index)\n",
    "        x = self.conv1(x, edge_index)\n",
    "        x = torch.relu(x)\n",
    "        x = self.conv2(x, edge_index)\n",
    "        print(x)\n",
    "        x = torch.relu(x)\n",
    "        x= nn.functional.softmax(x, dim=1)\n",
    "        return x"
   ]
  },
  {
   "cell_type": "code",
   "execution_count": 20,
   "id": "d58bfd7a",
   "metadata": {},
   "outputs": [],
   "source": [
    "model = GCN().to('cuda')"
   ]
  },
  {
   "cell_type": "code",
   "execution_count": 21,
   "id": "1ad88fc1",
   "metadata": {},
   "outputs": [
    {
     "data": {
      "text/plain": [
       "GCN(\n",
       "  (conv1): GCNConv(1, 3)\n",
       "  (conv2): GCNConv(3, 2)\n",
       ")"
      ]
     },
     "execution_count": 21,
     "metadata": {},
     "output_type": "execute_result"
    }
   ],
   "source": [
    "model"
   ]
  },
  {
   "cell_type": "code",
   "execution_count": 22,
   "id": "5e0733e9",
   "metadata": {},
   "outputs": [
    {
     "name": "stdout",
     "output_type": "stream",
     "text": [
      "tensor([[-1.],\n",
      "        [-2.],\n",
      "        [ 0.]], device='cuda:0')\n",
      "tensor([[0, 1, 1, 2],\n",
      "        [1, 0, 2, 1]], device='cuda:0')\n",
      "tensor([[-0.6637,  0.3998],\n",
      "        [-0.7435,  0.4479],\n",
      "        [-0.5124,  0.3087]], device='cuda:0', grad_fn=<AddBackward0>)\n"
     ]
    },
    {
     "data": {
      "text/plain": [
       "tensor([[0.4014, 0.5986],\n",
       "        [0.3898, 0.6102],\n",
       "        [0.4234, 0.5766]], device='cuda:0', grad_fn=<SoftmaxBackward0>)"
      ]
     },
     "execution_count": 22,
     "metadata": {},
     "output_type": "execute_result"
    }
   ],
   "source": [
    "# data1 has 3 nodes (with 'embedding' [-3,-1])\n",
    "model(data1)"
   ]
  },
  {
   "cell_type": "code",
   "execution_count": 23,
   "id": "65b575db",
   "metadata": {},
   "outputs": [
    {
     "name": "stdout",
     "output_type": "stream",
     "text": [
      "tensor([[0.],\n",
      "        [1.],\n",
      "        [2.],\n",
      "        [3.],\n",
      "        [4.]], device='cuda:0')\n",
      "tensor([[0, 1, 1, 2, 3, 4, 0, 3],\n",
      "        [1, 0, 2, 1, 4, 3, 3, 0]], device='cuda:0')\n",
      "tensor([[0.3248, 0.2283],\n",
      "        [0.2671, 0.1877],\n",
      "        [0.2235, 0.1571],\n",
      "        [0.5025, 0.3532],\n",
      "        [0.5118, 0.3597]], device='cuda:0', grad_fn=<AddBackward0>)\n"
     ]
    },
    {
     "data": {
      "text/plain": [
       "tensor([[0.5241, 0.4759],\n",
       "        [0.5198, 0.4802],\n",
       "        [0.5166, 0.4834],\n",
       "        [0.5373, 0.4627],\n",
       "        [0.5380, 0.4620]], device='cuda:0', grad_fn=<SoftmaxBackward0>)"
      ]
     },
     "execution_count": 23,
     "metadata": {},
     "output_type": "execute_result"
    }
   ],
   "source": [
    "# data2 has 5 nodes (with 'embedding' [0,4])\n",
    "model(data2)"
   ]
  },
  {
   "cell_type": "code",
   "execution_count": null,
   "id": "84f3a09d",
   "metadata": {},
   "outputs": [],
   "source": []
  }
 ],
 "metadata": {
  "kernelspec": {
   "display_name": "Python 3 (ipykernel)",
   "language": "python",
   "name": "python3"
  },
  "language_info": {
   "codemirror_mode": {
    "name": "ipython",
    "version": 3
   },
   "file_extension": ".py",
   "mimetype": "text/x-python",
   "name": "python",
   "nbconvert_exporter": "python",
   "pygments_lexer": "ipython3",
   "version": "3.8.12"
  }
 },
 "nbformat": 4,
 "nbformat_minor": 5
}
